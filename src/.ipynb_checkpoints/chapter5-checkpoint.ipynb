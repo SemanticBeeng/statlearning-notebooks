{
 "cells": [
  {
   "cell_type": "markdown",
   "metadata": {},
   "source": [
    "## Chapter 5: Cross-Validation and Bootstrap ##"
   ]
  },
  {
   "cell_type": "code",
   "execution_count": 1,
   "metadata": {
    "collapsed": false
   },
   "outputs": [],
   "source": [
    "from __future__ import division\n",
    "import pandas as pd\n",
    "import numpy as np\n",
    "import scipy as sp\n",
    "import matplotlib.pyplot as plt\n",
    "from sklearn.linear_model import LinearRegression\n",
    "from sklearn.cross_validation import LeaveOneOut\n",
    "from sklearn.cross_validation import KFold\n",
    "from sklearn.cross_validation import Bootstrap\n",
    "from sklearn.metrics import mean_squared_error\n",
    "%matplotlib inline"
   ]
  },
  {
   "cell_type": "code",
   "execution_count": 2,
   "metadata": {
    "collapsed": false
   },
   "outputs": [
    {
     "data": {
      "text/html": [
       "<div style=\"max-height:1000px;max-width:1500px;overflow:auto;\">\n",
       "<table border=\"1\" class=\"dataframe\">\n",
       "  <thead>\n",
       "    <tr style=\"text-align: right;\">\n",
       "      <th></th>\n",
       "      <th>mpg</th>\n",
       "      <th>cylinders</th>\n",
       "      <th>displacement</th>\n",
       "      <th>horsepower</th>\n",
       "      <th>weight</th>\n",
       "      <th>acceleration</th>\n",
       "      <th>year</th>\n",
       "      <th>origin</th>\n",
       "      <th>name</th>\n",
       "    </tr>\n",
       "  </thead>\n",
       "  <tbody>\n",
       "    <tr>\n",
       "      <th>0</th>\n",
       "      <td> 18</td>\n",
       "      <td> 8</td>\n",
       "      <td> 307</td>\n",
       "      <td> 130</td>\n",
       "      <td> 3504</td>\n",
       "      <td> 12.0</td>\n",
       "      <td> 70</td>\n",
       "      <td> 1</td>\n",
       "      <td> chevrolet chevelle malibu</td>\n",
       "    </tr>\n",
       "    <tr>\n",
       "      <th>1</th>\n",
       "      <td> 15</td>\n",
       "      <td> 8</td>\n",
       "      <td> 350</td>\n",
       "      <td> 165</td>\n",
       "      <td> 3693</td>\n",
       "      <td> 11.5</td>\n",
       "      <td> 70</td>\n",
       "      <td> 1</td>\n",
       "      <td>         buick skylark 320</td>\n",
       "    </tr>\n",
       "    <tr>\n",
       "      <th>2</th>\n",
       "      <td> 18</td>\n",
       "      <td> 8</td>\n",
       "      <td> 318</td>\n",
       "      <td> 150</td>\n",
       "      <td> 3436</td>\n",
       "      <td> 11.0</td>\n",
       "      <td> 70</td>\n",
       "      <td> 1</td>\n",
       "      <td>        plymouth satellite</td>\n",
       "    </tr>\n",
       "    <tr>\n",
       "      <th>3</th>\n",
       "      <td> 16</td>\n",
       "      <td> 8</td>\n",
       "      <td> 304</td>\n",
       "      <td> 150</td>\n",
       "      <td> 3433</td>\n",
       "      <td> 12.0</td>\n",
       "      <td> 70</td>\n",
       "      <td> 1</td>\n",
       "      <td>             amc rebel sst</td>\n",
       "    </tr>\n",
       "    <tr>\n",
       "      <th>4</th>\n",
       "      <td> 17</td>\n",
       "      <td> 8</td>\n",
       "      <td> 302</td>\n",
       "      <td> 140</td>\n",
       "      <td> 3449</td>\n",
       "      <td> 10.5</td>\n",
       "      <td> 70</td>\n",
       "      <td> 1</td>\n",
       "      <td>               ford torino</td>\n",
       "    </tr>\n",
       "  </tbody>\n",
       "</table>\n",
       "</div>"
      ],
      "text/plain": [
       "   mpg  cylinders  displacement  horsepower  weight  acceleration  year  \\\n",
       "0   18          8           307         130    3504          12.0    70   \n",
       "1   15          8           350         165    3693          11.5    70   \n",
       "2   18          8           318         150    3436          11.0    70   \n",
       "3   16          8           304         150    3433          12.0    70   \n",
       "4   17          8           302         140    3449          10.5    70   \n",
       "\n",
       "   origin                       name  \n",
       "0       1  chevrolet chevelle malibu  \n",
       "1       1          buick skylark 320  \n",
       "2       1         plymouth satellite  \n",
       "3       1              amc rebel sst  \n",
       "4       1                ford torino  "
      ]
     },
     "execution_count": 2,
     "metadata": {},
     "output_type": "execute_result"
    }
   ],
   "source": [
    "auto_df = pd.read_csv(\"../data/Auto.csv\", na_values=\"?\")\n",
    "auto_df.dropna(inplace=True)\n",
    "auto_df.head()"
   ]
  },
  {
   "cell_type": "code",
   "execution_count": 3,
   "metadata": {
    "collapsed": false
   },
   "outputs": [
    {
     "data": {
      "text/plain": [
       "<matplotlib.text.Text at 0x7f34221f8320>"
      ]
     },
     "execution_count": 3,
     "metadata": {},
     "output_type": "execute_result"
    },
    {
     "data": {
      "image/png": "[encoded data removed]",
      "text/plain": [
       "<matplotlib.figure.Figure at 0x7f342223b4a8>"
      ]
     },
     "metadata": {},
     "output_type": "display_data"
    }
   ],
   "source": [
    "ax = auto_df.plot(x=\"horsepower\", y=\"mpg\", style=\"o\")\n",
    "ax.set_ylabel(\"mpg\")"
   ]
  },
  {
   "cell_type": "markdown",
   "metadata": {},
   "source": [
    "### Leave One Out Cross Validation (LOOCV) ###\n",
    "\n",
    "Instead of R's glm, we use Scikit-Learn's LinearRegression to arrive at very similar results."
   ]
  },
  {
   "cell_type": "code",
   "execution_count": 4,
   "metadata": {
    "collapsed": false
   },
   "outputs": [
    {
     "data": {
      "text/plain": [
       "24.231513517929226"
      ]
     },
     "execution_count": 4,
     "metadata": {},
     "output_type": "execute_result"
    }
   ],
   "source": [
    "clf = LinearRegression()\n",
    "loo = LeaveOneOut(len(auto_df))\n",
    "X = auto_df[[\"horsepower\"]].values\n",
    "y = auto_df[\"mpg\"].values\n",
    "n = np.shape(X)[0]\n",
    "mses = []\n",
    "for train, test in loo:\n",
    "    Xtrain, ytrain, Xtest, ytest = X[train], y[train], X[test], y[test]\n",
    "    clf.fit(Xtrain, ytrain)\n",
    "    ypred = clf.predict(Xtest)\n",
    "    mses.append(mean_squared_error(ytest, ypred))\n",
    "np.mean(mses)"
   ]
  },
  {
   "cell_type": "code",
   "execution_count": 5,
   "metadata": {
    "collapsed": false
   },
   "outputs": [
    {
     "data": {
      "text/plain": [
       "24.086699242104977"
      ]
     },
     "execution_count": 5,
     "metadata": {},
     "output_type": "execute_result"
    }
   ],
   "source": [
    "def loo_shortcut(X, y):\n",
    "    \"\"\" implement one-pass LOOCV calculation for linear models from ISLR Page 180 (Eqn 5.2) \"\"\"\n",
    "    clf = LinearRegression()\n",
    "    clf.fit(X, y)\n",
    "    ypred = clf.predict(X)\n",
    "    xbar = np.mean(X, axis=0)\n",
    "    xsum = np.sum(np.power(X - xbar, 2))\n",
    "    nrows = np.shape(X)[0]\n",
    "    mses = []\n",
    "    for row in range(0, nrows):\n",
    "        hi = (1 / nrows) + (np.sum(X[row] - xbar) ** 2 / xsum)\n",
    "        mse = (y[row] - ypred[row]) ** 2 / (1 - hi)\n",
    "        mses.append(mse)\n",
    "    return np.mean(mses)\n",
    "\n",
    "loo_shortcut(auto_df[[\"horsepower\"]].values, auto_df[\"mpg\"].values)"
   ]
  },
  {
   "cell_type": "code",
   "execution_count": 6,
   "metadata": {
    "collapsed": false
   },
   "outputs": [
    {
     "data": {
      "text/plain": [
       "<matplotlib.text.Text at 0x7f3422147c50>"
      ]
     },
     "execution_count": 6,
     "metadata": {},
     "output_type": "execute_result"
    },
    {
     "data": {
      "image/png": "[encoded data removed]",
      "text/plain": [
       "<matplotlib.figure.Figure at 0x7f342223be80>"
      ]
     },
     "metadata": {},
     "output_type": "display_data"
    }
   ],
   "source": [
    "# LOOCV against models of different degrees\n",
    "auto_df[\"horsepower^2\"] = auto_df[\"horsepower\"] * auto_df[\"horsepower\"]\n",
    "auto_df[\"horsepower^3\"] = auto_df[\"horsepower^2\"] * auto_df[\"horsepower\"]\n",
    "auto_df[\"horsepower^4\"] = auto_df[\"horsepower^3\"] * auto_df[\"horsepower\"]\n",
    "auto_df[\"horsepower^5\"] = auto_df[\"horsepower^4\"] * auto_df[\"horsepower\"]\n",
    "auto_df[\"unit\"] = 1\n",
    "colnames = [\"unit\", \"horsepower\", \"horsepower^2\", \"horsepower^3\", \"horsepower^4\", \"horsepower^5\"]\n",
    "cv_errors = []\n",
    "for ncols in range(2, 6):\n",
    "    X = auto_df[colnames[0:ncols]]\n",
    "    y = auto_df[\"mpg\"]\n",
    "    clf = LinearRegression()\n",
    "    clf.fit(X, y)\n",
    "    cv_errors.append(loo_shortcut(X.values, y.values))\n",
    "plt.plot(range(1,5), cv_errors)\n",
    "plt.xlabel(\"degree\")\n",
    "plt.ylabel(\"cv.error\")"
   ]
  },
  {
   "cell_type": "markdown",
   "metadata": {},
   "source": [
    "### K-Fold Cross Validation ###"
   ]
  },
  {
   "cell_type": "code",
   "execution_count": 7,
   "metadata": {
    "collapsed": false
   },
   "outputs": [
    {
     "data": {
      "text/plain": [
       "<matplotlib.text.Text at 0x7f3422273b00>"
      ]
     },
     "execution_count": 7,
     "metadata": {},
     "output_type": "execute_result"
    },
    {
     "data": {
      "image/png": "[encoded data removed]",
      "text/plain": [
       "<matplotlib.figure.Figure at 0x7f34221606d8>"
      ]
     },
     "metadata": {},
     "output_type": "display_data"
    }
   ],
   "source": [
    "cv_errors = []\n",
    "for ncols in range(2, 6):\n",
    "    # each ncol corresponds to a polynomial model\n",
    "    X = auto_df[colnames[0:ncols]].values\n",
    "    y = auto_df[\"mpg\"].values\n",
    "    kfold = KFold(len(auto_df), n_folds=10)\n",
    "    mses = []\n",
    "    for train, test in kfold:\n",
    "        # each model is cross validated 10 times\n",
    "        Xtrain, ytrain, Xtest, ytest = X[train], y[train], X[test], y[test]   \n",
    "        clf = LinearRegression()\n",
    "        clf.fit(X, y)\n",
    "        ypred = clf.predict(Xtest)\n",
    "        mses.append(mean_squared_error(ypred, ytest))\n",
    "    cv_errors.append(np.mean(mses))\n",
    "plt.plot(range(1,5), cv_errors)\n",
    "plt.xlabel(\"degree\")\n",
    "plt.ylabel(\"cv.error\")"
   ]
  },
  {
   "cell_type": "markdown",
   "metadata": {},
   "source": [
    "### Bootstrap ###"
   ]
  },
  {
   "cell_type": "code",
   "execution_count": 9,
   "metadata": {
    "collapsed": false
   },
   "outputs": [
    {
     "name": "stderr",
     "output_type": "stream",
     "text": [
      "/datascience/bin/python/anaconda3/lib/python3.4/site-packages/sklearn/cross_validation.py:684: DeprecationWarning: Bootstrap will no longer be supported as a cross-validation method as of version 0.15 and will be removed in 0.17\n",
      "  \"will be removed in 0.17\", DeprecationWarning)\n",
      "/datascience/bin/python/anaconda3/lib/python3.4/site-packages/sklearn/cross_validation.py:684: DeprecationWarning: Bootstrap will no longer be supported as a cross-validation method as of version 0.15 and will be removed in 0.17\n",
      "  \"will be removed in 0.17\", DeprecationWarning)\n",
      "/datascience/bin/python/anaconda3/lib/python3.4/site-packages/sklearn/cross_validation.py:684: DeprecationWarning: Bootstrap will no longer be supported as a cross-validation method as of version 0.15 and will be removed in 0.17\n",
      "  \"will be removed in 0.17\", DeprecationWarning)\n",
      "/datascience/bin/python/anaconda3/lib/python3.4/site-packages/sklearn/cross_validation.py:684: DeprecationWarning: Bootstrap will no longer be supported as a cross-validation method as of version 0.15 and will be removed in 0.17\n",
      "  \"will be removed in 0.17\", DeprecationWarning)\n"
     ]
    },
    {
     "data": {
      "text/plain": [
       "<matplotlib.text.Text at 0x7f3422091630>"
      ]
     },
     "execution_count": 9,
     "metadata": {},
     "output_type": "execute_result"
    },
    {
     "data": {
      "image/png": "[encoded data removed]",
      "text/plain": [
       "<matplotlib.figure.Figure at 0x7f342200de48>"
      ]
     },
     "metadata": {},
     "output_type": "display_data"
    }
   ],
   "source": [
    "cv_errors = []\n",
    "for ncols in range(2, 6):\n",
    "    # each ncol corresponds to a polynomial model\n",
    "    X = auto_df[colnames[0:ncols]].values\n",
    "    y = auto_df[\"mpg\"].values\n",
    "    n = len(auto_df)\n",
    "    bs = Bootstrap(n, train_size=int(0.9*n), test_size=int(0.1*n), n_iter=10, random_state=0)\n",
    "    mses = []\n",
    "    for train, test in bs:\n",
    "        # each model is resampled 10 times\n",
    "        Xtrain, ytrain, Xtest, ytest = X[train], y[train], X[test], y[test]   \n",
    "        clf = LinearRegression()\n",
    "        clf.fit(X, y)\n",
    "        ypred = clf.predict(Xtest)\n",
    "        mses.append(mean_squared_error(ypred, ytest))\n",
    "    cv_errors.append(np.mean(mses))\n",
    "plt.plot(range(1,5), cv_errors)\n",
    "plt.xlabel(\"degree\")\n",
    "plt.ylabel(\"cv.error\")"
   ]
  },
  {
   "cell_type": "code",
   "execution_count": 10,
   "metadata": {
    "collapsed": false
   },
   "outputs": [
    {
     "data": {
      "text/html": [
       "<div style=\"max-height:1000px;max-width:1500px;overflow:auto;\">\n",
       "<table border=\"1\" class=\"dataframe\">\n",
       "  <thead>\n",
       "    <tr style=\"text-align: right;\">\n",
       "      <th></th>\n",
       "      <th>X</th>\n",
       "      <th>Y</th>\n",
       "    </tr>\n",
       "  </thead>\n",
       "  <tbody>\n",
       "    <tr>\n",
       "      <th>0</th>\n",
       "      <td>-0.895251</td>\n",
       "      <td>-0.234924</td>\n",
       "    </tr>\n",
       "    <tr>\n",
       "      <th>1</th>\n",
       "      <td>-1.562454</td>\n",
       "      <td>-0.885176</td>\n",
       "    </tr>\n",
       "    <tr>\n",
       "      <th>2</th>\n",
       "      <td>-0.417090</td>\n",
       "      <td> 0.271888</td>\n",
       "    </tr>\n",
       "    <tr>\n",
       "      <th>3</th>\n",
       "      <td> 1.044356</td>\n",
       "      <td>-0.734198</td>\n",
       "    </tr>\n",
       "    <tr>\n",
       "      <th>4</th>\n",
       "      <td>-0.315568</td>\n",
       "      <td> 0.841983</td>\n",
       "    </tr>\n",
       "  </tbody>\n",
       "</table>\n",
       "</div>"
      ],
      "text/plain": [
       "          X         Y\n",
       "0 -0.895251 -0.234924\n",
       "1 -1.562454 -0.885176\n",
       "2 -0.417090  0.271888\n",
       "3  1.044356 -0.734198\n",
       "4 -0.315568  0.841983"
      ]
     },
     "execution_count": 10,
     "metadata": {},
     "output_type": "execute_result"
    }
   ],
   "source": [
    "def alpha(x, y):\n",
    "    \"\"\" allocate alpha of your assets to x and (1-alpha) to y for optimum \"\"\"\n",
    "    vx = np.var(x)\n",
    "    vy = np.var(y)\n",
    "    cxy = np.cov(x, y)\n",
    "    return ((vy - cxy) / (vx + vy - 2 * cxy))[0, 1]\n",
    "\n",
    "# From ISLR package, retrieved with write.csv(Portfolio, \"portfolio.csv\", row.names=FALSE)\n",
    "portfolio_df = pd.read_csv(\"../data/Portfolio.csv\")\n",
    "portfolio_df.head()"
   ]
  },
  {
   "cell_type": "code",
   "execution_count": 11,
   "metadata": {
    "collapsed": false
   },
   "outputs": [
    {
     "data": {
      "text/plain": [
       "0.57665115161041158"
      ]
     },
     "execution_count": 11,
     "metadata": {},
     "output_type": "execute_result"
    }
   ],
   "source": [
    "alpha(portfolio_df[\"X\"].values, portfolio_df[\"Y\"].values)"
   ]
  },
  {
   "cell_type": "code",
   "execution_count": 12,
   "metadata": {
    "collapsed": false
   },
   "outputs": [
    {
     "name": "stderr",
     "output_type": "stream",
     "text": [
      "/datascience/bin/python/anaconda3/lib/python3.4/site-packages/sklearn/cross_validation.py:684: DeprecationWarning: Bootstrap will no longer be supported as a cross-validation method as of version 0.15 and will be removed in 0.17\n",
      "  \"will be removed in 0.17\", DeprecationWarning)\n"
     ]
    },
    {
     "data": {
      "text/plain": [
       "(array([   1.,    4.,   27.,  101.,  214.,  265.,  231.,  111.,   30.,   16.]),\n",
       " array([ 0.23030675,  0.2930067 ,  0.35570664,  0.41840658,  0.48110652,\n",
       "         0.54380646,  0.6065064 ,  0.66920634,  0.73190628,  0.79460622,\n",
       "         0.85730616]),\n",
       " <a list of 10 Patch objects>)"
      ]
     },
     "execution_count": 12,
     "metadata": {},
     "output_type": "execute_result"
    },
    {
     "data": {
      "image/png": "[encoded data removed]",
      "text/plain": [
       "<matplotlib.figure.Figure at 0x7f3421ff4128>"
      ]
     },
     "metadata": {},
     "output_type": "display_data"
    }
   ],
   "source": [
    "# Find the variance of alpha - shows that bootstrapping results in a near-normal distribution\n",
    "X = portfolio_df[\"X\"].values\n",
    "Y = portfolio_df[\"Y\"].values\n",
    "bs = Bootstrap(len(portfolio_df), n_iter=1000, train_size=99, random_state=0)\n",
    "alphas = []\n",
    "for train, test in bs:\n",
    "    xtrain, ytrain = X[train], Y[train]\n",
    "    alphas.append(alpha(xtrain, ytrain))\n",
    "plt.hist(alphas)"
   ]
  },
  {
   "cell_type": "code",
   "execution_count": null,
   "metadata": {
    "collapsed": true
   },
   "outputs": [],
   "source": []
  },
  {
   "cell_type": "code",
   "execution_count": null,
   "metadata": {
    "collapsed": true
   },
   "outputs": [],
   "source": []
  }
 ],
 "metadata": {
  "kernelspec": {
   "display_name": "Python 3",
   "language": "python",
   "name": "python3"
  },
  "language_info": {
   "codemirror_mode": {
    "name": "ipython",
    "version": 3
   },
   "file_extension": ".py",
   "mimetype": "text/x-python",
   "name": "python",
   "nbconvert_exporter": "python",
   "pygments_lexer": "ipython3",
   "version": "3.4.3"
  }
 },
 "nbformat": 4,
 "nbformat_minor": 0
}
