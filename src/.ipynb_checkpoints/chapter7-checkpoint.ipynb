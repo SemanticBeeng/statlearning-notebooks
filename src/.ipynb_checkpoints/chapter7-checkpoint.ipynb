{
 "cells": [
  {
   "cell_type": "markdown",
   "metadata": {},
   "source": [
    "## Chapter 7: Nonlinear Models ###"
   ]
  },
  {
   "cell_type": "code",
   "execution_count": 1,
   "metadata": {
    "collapsed": false
   },
   "outputs": [],
   "source": [
    "from __future__ import division\n",
    "import pandas as pd\n",
    "import numpy as np\n",
    "import scipy as sp\n",
    "import matplotlib.pyplot as plt\n",
    "from sklearn.linear_model import LinearRegression\n",
    "from sklearn.linear_model import LogisticRegression\n",
    "from sklearn.metrics import mean_squared_error\n",
    "from sklearn.feature_selection import SelectKBest\n",
    "from sklearn.feature_selection import f_regression\n",
    "from sklearn.feature_selection import chi2\n",
    "from sklearn.cluster import MeanShift\n",
    "from scipy.interpolate import LSQUnivariateSpline\n",
    "%matplotlib inline"
   ]
  },
  {
   "cell_type": "code",
   "execution_count": 2,
   "metadata": {
    "collapsed": false
   },
   "outputs": [
    {
     "data": {
      "text/html": [
       "<div style=\"max-height:1000px;max-width:1500px;overflow:auto;\">\n",
       "<table border=\"1\" class=\"dataframe\">\n",
       "  <thead>\n",
       "    <tr style=\"text-align: right;\">\n",
       "      <th></th>\n",
       "      <th>year</th>\n",
       "      <th>age</th>\n",
       "      <th>sex</th>\n",
       "      <th>maritl</th>\n",
       "      <th>race</th>\n",
       "      <th>education</th>\n",
       "      <th>region</th>\n",
       "      <th>jobclass</th>\n",
       "      <th>health</th>\n",
       "      <th>health_ins</th>\n",
       "      <th>logwage</th>\n",
       "      <th>wage</th>\n",
       "    </tr>\n",
       "  </thead>\n",
       "  <tbody>\n",
       "    <tr>\n",
       "      <th>0</th>\n",
       "      <td> 2006</td>\n",
       "      <td> 18</td>\n",
       "      <td> 1. Male</td>\n",
       "      <td> 1. Never Married</td>\n",
       "      <td> 1. White</td>\n",
       "      <td>    1. &lt; HS Grad</td>\n",
       "      <td> 2. Middle Atlantic</td>\n",
       "      <td>  1. Industrial</td>\n",
       "      <td>      1. &lt;=Good</td>\n",
       "      <td>  2. No</td>\n",
       "      <td> 4.318063</td>\n",
       "      <td>  75.043154</td>\n",
       "    </tr>\n",
       "    <tr>\n",
       "      <th>1</th>\n",
       "      <td> 2004</td>\n",
       "      <td> 24</td>\n",
       "      <td> 1. Male</td>\n",
       "      <td> 1. Never Married</td>\n",
       "      <td> 1. White</td>\n",
       "      <td> 4. College Grad</td>\n",
       "      <td> 2. Middle Atlantic</td>\n",
       "      <td> 2. Information</td>\n",
       "      <td> 2. &gt;=Very Good</td>\n",
       "      <td>  2. No</td>\n",
       "      <td> 4.255273</td>\n",
       "      <td>  70.476020</td>\n",
       "    </tr>\n",
       "    <tr>\n",
       "      <th>2</th>\n",
       "      <td> 2003</td>\n",
       "      <td> 45</td>\n",
       "      <td> 1. Male</td>\n",
       "      <td>       2. Married</td>\n",
       "      <td> 1. White</td>\n",
       "      <td> 3. Some College</td>\n",
       "      <td> 2. Middle Atlantic</td>\n",
       "      <td>  1. Industrial</td>\n",
       "      <td>      1. &lt;=Good</td>\n",
       "      <td> 1. Yes</td>\n",
       "      <td> 4.875061</td>\n",
       "      <td> 130.982177</td>\n",
       "    </tr>\n",
       "    <tr>\n",
       "      <th>3</th>\n",
       "      <td> 2003</td>\n",
       "      <td> 43</td>\n",
       "      <td> 1. Male</td>\n",
       "      <td>       2. Married</td>\n",
       "      <td> 3. Asian</td>\n",
       "      <td> 4. College Grad</td>\n",
       "      <td> 2. Middle Atlantic</td>\n",
       "      <td> 2. Information</td>\n",
       "      <td> 2. &gt;=Very Good</td>\n",
       "      <td> 1. Yes</td>\n",
       "      <td> 5.041393</td>\n",
       "      <td> 154.685293</td>\n",
       "    </tr>\n",
       "    <tr>\n",
       "      <th>4</th>\n",
       "      <td> 2005</td>\n",
       "      <td> 50</td>\n",
       "      <td> 1. Male</td>\n",
       "      <td>      4. Divorced</td>\n",
       "      <td> 1. White</td>\n",
       "      <td>      2. HS Grad</td>\n",
       "      <td> 2. Middle Atlantic</td>\n",
       "      <td> 2. Information</td>\n",
       "      <td>      1. &lt;=Good</td>\n",
       "      <td> 1. Yes</td>\n",
       "      <td> 4.318063</td>\n",
       "      <td>  75.043154</td>\n",
       "    </tr>\n",
       "  </tbody>\n",
       "</table>\n",
       "</div>"
      ],
      "text/plain": [
       "   year  age      sex            maritl      race        education  \\\n",
       "0  2006   18  1. Male  1. Never Married  1. White     1. < HS Grad   \n",
       "1  2004   24  1. Male  1. Never Married  1. White  4. College Grad   \n",
       "2  2003   45  1. Male        2. Married  1. White  3. Some College   \n",
       "3  2003   43  1. Male        2. Married  3. Asian  4. College Grad   \n",
       "4  2005   50  1. Male       4. Divorced  1. White       2. HS Grad   \n",
       "\n",
       "               region        jobclass          health health_ins   logwage  \\\n",
       "0  2. Middle Atlantic   1. Industrial       1. <=Good      2. No  4.318063   \n",
       "1  2. Middle Atlantic  2. Information  2. >=Very Good      2. No  4.255273   \n",
       "2  2. Middle Atlantic   1. Industrial       1. <=Good     1. Yes  4.875061   \n",
       "3  2. Middle Atlantic  2. Information  2. >=Very Good     1. Yes  5.041393   \n",
       "4  2. Middle Atlantic  2. Information       1. <=Good     1. Yes  4.318063   \n",
       "\n",
       "         wage  \n",
       "0   75.043154  \n",
       "1   70.476020  \n",
       "2  130.982177  \n",
       "3  154.685293  \n",
       "4   75.043154  "
      ]
     },
     "execution_count": 2,
     "metadata": {},
     "output_type": "execute_result"
    }
   ],
   "source": [
    "# Data comes from ISLR::Wage - written using write.csv(Wage, \"wage.csv\", row.names=FALSE)\n",
    "wage_df = pd.read_csv(\"../data/Wage.csv\")\n",
    "wage_df.head()"
   ]
  },
  {
   "cell_type": "code",
   "execution_count": 3,
   "metadata": {
    "collapsed": false
   },
   "outputs": [
    {
     "data": {
      "text/html": [
       "<div style=\"max-height:1000px;max-width:1500px;overflow:auto;\">\n",
       "<table border=\"1\" class=\"dataframe\">\n",
       "  <thead>\n",
       "    <tr style=\"text-align: right;\">\n",
       "      <th></th>\n",
       "      <th>year</th>\n",
       "      <th>age</th>\n",
       "      <th>sex</th>\n",
       "      <th>maritl</th>\n",
       "      <th>race</th>\n",
       "      <th>education</th>\n",
       "      <th>region</th>\n",
       "      <th>jobclass</th>\n",
       "      <th>health</th>\n",
       "      <th>health_ins</th>\n",
       "      <th>logwage</th>\n",
       "      <th>wage</th>\n",
       "    </tr>\n",
       "  </thead>\n",
       "  <tbody>\n",
       "    <tr>\n",
       "      <th>0</th>\n",
       "      <td> 2006</td>\n",
       "      <td> 18</td>\n",
       "      <td> 0</td>\n",
       "      <td> 0</td>\n",
       "      <td> 0</td>\n",
       "      <td> 0</td>\n",
       "      <td> 0</td>\n",
       "      <td>  1. Industrial</td>\n",
       "      <td> 0</td>\n",
       "      <td> 0</td>\n",
       "      <td> 4.318063</td>\n",
       "      <td>  75.043154</td>\n",
       "    </tr>\n",
       "    <tr>\n",
       "      <th>1</th>\n",
       "      <td> 2004</td>\n",
       "      <td> 24</td>\n",
       "      <td> 0</td>\n",
       "      <td> 0</td>\n",
       "      <td> 0</td>\n",
       "      <td> 1</td>\n",
       "      <td> 0</td>\n",
       "      <td> 2. Information</td>\n",
       "      <td> 1</td>\n",
       "      <td> 0</td>\n",
       "      <td> 4.255273</td>\n",
       "      <td>  70.476020</td>\n",
       "    </tr>\n",
       "    <tr>\n",
       "      <th>2</th>\n",
       "      <td> 2003</td>\n",
       "      <td> 45</td>\n",
       "      <td> 0</td>\n",
       "      <td> 1</td>\n",
       "      <td> 0</td>\n",
       "      <td> 2</td>\n",
       "      <td> 0</td>\n",
       "      <td>  1. Industrial</td>\n",
       "      <td> 0</td>\n",
       "      <td> 1</td>\n",
       "      <td> 4.875061</td>\n",
       "      <td> 130.982177</td>\n",
       "    </tr>\n",
       "    <tr>\n",
       "      <th>3</th>\n",
       "      <td> 2003</td>\n",
       "      <td> 43</td>\n",
       "      <td> 0</td>\n",
       "      <td> 1</td>\n",
       "      <td> 1</td>\n",
       "      <td> 1</td>\n",
       "      <td> 0</td>\n",
       "      <td> 2. Information</td>\n",
       "      <td> 1</td>\n",
       "      <td> 1</td>\n",
       "      <td> 5.041393</td>\n",
       "      <td> 154.685293</td>\n",
       "    </tr>\n",
       "    <tr>\n",
       "      <th>4</th>\n",
       "      <td> 2005</td>\n",
       "      <td> 50</td>\n",
       "      <td> 0</td>\n",
       "      <td> 2</td>\n",
       "      <td> 0</td>\n",
       "      <td> 3</td>\n",
       "      <td> 0</td>\n",
       "      <td> 2. Information</td>\n",
       "      <td> 0</td>\n",
       "      <td> 1</td>\n",
       "      <td> 4.318063</td>\n",
       "      <td>  75.043154</td>\n",
       "    </tr>\n",
       "  </tbody>\n",
       "</table>\n",
       "</div>"
      ],
      "text/plain": [
       "   year  age  sex  maritl  race  education  region        jobclass  health  \\\n",
       "0  2006   18    0       0     0          0       0   1. Industrial       0   \n",
       "1  2004   24    0       0     0          1       0  2. Information       1   \n",
       "2  2003   45    0       1     0          2       0   1. Industrial       0   \n",
       "3  2003   43    0       1     1          1       0  2. Information       1   \n",
       "4  2005   50    0       2     0          3       0  2. Information       0   \n",
       "\n",
       "   health_ins   logwage        wage  \n",
       "0           0  4.318063   75.043154  \n",
       "1           0  4.255273   70.476020  \n",
       "2           1  4.875061  130.982177  \n",
       "3           1  5.041393  154.685293  \n",
       "4           1  4.318063   75.043154  "
      ]
     },
     "execution_count": 3,
     "metadata": {},
     "output_type": "execute_result"
    }
   ],
   "source": [
    "# factorize non-numeric variables\n",
    "wage_df[\"sex\"] = pd.factorize(wage_df[\"sex\"])[0]\n",
    "wage_df[\"maritl\"] = pd.factorize(wage_df[\"maritl\"])[0]\n",
    "wage_df[\"race\"] = pd.factorize(wage_df[\"race\"])[0]\n",
    "wage_df[\"education\"] = pd.factorize(wage_df[\"education\"])[0]\n",
    "wage_df[\"region\"] = pd.factorize(wage_df[\"region\"])[0]\n",
    "wage_df[\"health\"] = pd.factorize(wage_df[\"health\"])[0]\n",
    "wage_df[\"health_ins\"] = pd.factorize(wage_df[\"health_ins\"])[0]\n",
    "wage_df.head()"
   ]
  },
  {
   "cell_type": "markdown",
   "metadata": {},
   "source": [
    "### Polynomials ###\n",
    "\n",
    "We attempt to build a model to predict wage given a degree 4 polynomial over age. In R the polynomial features are created using the poly() function. As pointed out in [this post from Dave Moore](http://davmre.github.io/python/2013/12/15/orthogonal_poly/) the method creates orthogonal polynomial features, which are different from simple powers of the original feature. Code for the poly() function shown below is a straight copy from the ortho_poly_fit() function code from this page."
   ]
  },
  {
   "cell_type": "code",
   "execution_count": 4,
   "metadata": {
    "collapsed": false
   },
   "outputs": [
    {
     "data": {
      "text/plain": [
       "array([[-0.0386248 ,  0.05590873, -0.07174058,  0.08672985],\n",
       "       [-0.0291326 ,  0.02629807, -0.01454995, -0.00259928],\n",
       "       [ 0.00409008, -0.01450655, -0.00013318,  0.01448009],\n",
       "       [ 0.00092602, -0.0148314 ,  0.00451367,  0.01265751],\n",
       "       [ 0.01200024, -0.00981585, -0.01113663,  0.01021146]])"
      ]
     },
     "execution_count": 4,
     "metadata": {},
     "output_type": "execute_result"
    }
   ],
   "source": [
    "def poly(x, degree = 1):\n",
    "    n = degree + 1\n",
    "    x = np.asarray(x).flatten()\n",
    "    if(degree >= len(np.unique(x))):\n",
    "        print(\"'degree' must be less than number of unique points\")\n",
    "        return\n",
    "    xbar = np.mean(x)\n",
    "    x = x - xbar\n",
    "    X = np.fliplr(np.vander(x, n))\n",
    "    q, r = np.linalg.qr(X)\n",
    "\n",
    "    z = np.diag(np.diag(r))\n",
    "    raw = np.dot(q, z)\n",
    "    \n",
    "    norm2 = np.sum(raw ** 2, axis=0)\n",
    "    alpha = (np.sum((raw ** 2) * np.reshape(x,(-1,1)), axis=0) / norm2 + xbar)[:degree]\n",
    "    Z = raw / np.sqrt(norm2)\n",
    "    return Z, norm2, alpha\n",
    "\n",
    "X = poly(wage_df[\"age\"].values, 4)[0]\n",
    "X[0:5, 1:]"
   ]
  },
  {
   "cell_type": "code",
   "execution_count": 5,
   "metadata": {
    "collapsed": false
   },
   "outputs": [
    {
     "ename": "SyntaxError",
     "evalue": "Missing parentheses in call to 'print' (<ipython-input-5-5e15210f5eab>, line 4)",
     "output_type": "error",
     "traceback": [
      "\u001b[1;36m  File \u001b[1;32m\"<ipython-input-5-5e15210f5eab>\"\u001b[1;36m, line \u001b[1;32m4\u001b[0m\n\u001b[1;33m    print \"Intercepts:\", reg.intercept_\u001b[0m\n\u001b[1;37m                      ^\u001b[0m\n\u001b[1;31mSyntaxError\u001b[0m\u001b[1;31m:\u001b[0m Missing parentheses in call to 'print'\n"
     ]
    }
   ],
   "source": [
    "y = wage_df[\"wage\"].values\n",
    "reg = LinearRegression()\n",
    "reg.fit(X, y)\n",
    "print \"Intercepts:\", reg.intercept_\n",
    "print \"Coefficients:\", reg.coef_\n",
    "ax = wage_df.plot(x=\"age\", y=\"wage\", style=\"o\")\n",
    "ax.set_ylabel(\"wage\")\n",
    "# The poly() method cannot return features for a single X value, so we have\n",
    "# to plot the raw predictions.\n",
    "age = wage_df[\"age\"].values\n",
    "ypred = reg.predict(X)\n",
    "polyline = np.poly1d(np.polyfit(age, ypred, 4))\n",
    "xs = range(int(np.min(age)), int(np.max(age)))\n",
    "ys = polyline(xs) \n",
    "ax.plot(xs, ys, 'r', linewidth=2.5)"
   ]
  },
  {
   "cell_type": "markdown",
   "metadata": {},
   "source": [
    "We can repeat this experiment with manually calculated powers of the age feature as follows. Even though the parameters are different, the resulting linear model appears to be the same."
   ]
  },
  {
   "cell_type": "code",
   "execution_count": 6,
   "metadata": {
    "collapsed": false
   },
   "outputs": [
    {
     "data": {
      "text/plain": [
       "array([[     18,     324,    5832,  104976],\n",
       "       [     24,     576,   13824,  331776],\n",
       "       [     45,    2025,   91125, 4100625],\n",
       "       [     43,    1849,   79507, 3418801],\n",
       "       [     50,    2500,  125000, 6250000]])"
      ]
     },
     "execution_count": 6,
     "metadata": {},
     "output_type": "execute_result"
    }
   ],
   "source": [
    "x1 = wage_df[\"age\"].values\n",
    "x2 = np.power(x1, 2)\n",
    "x3 = np.power(x1, 3)\n",
    "x4 = np.power(x1, 4)\n",
    "X = np.vstack((x1, x2, x3, x4)).T\n",
    "X[0:5, :]"
   ]
  },
  {
   "cell_type": "code",
   "execution_count": 7,
   "metadata": {
    "collapsed": false
   },
   "outputs": [
    {
     "ename": "SyntaxError",
     "evalue": "Missing parentheses in call to 'print' (<ipython-input-7-39e213ec32c1>, line 4)",
     "output_type": "error",
     "traceback": [
      "\u001b[1;36m  File \u001b[1;32m\"<ipython-input-7-39e213ec32c1>\"\u001b[1;36m, line \u001b[1;32m4\u001b[0m\n\u001b[1;33m    print \"Intercepts:\", reg.intercept_\u001b[0m\n\u001b[1;37m                      ^\u001b[0m\n\u001b[1;31mSyntaxError\u001b[0m\u001b[1;31m:\u001b[0m Missing parentheses in call to 'print'\n"
     ]
    }
   ],
   "source": [
    "y = wage_df[\"wage\"].values\n",
    "reg = LinearRegression()\n",
    "reg.fit(X, y)\n",
    "print \"Intercepts:\", reg.intercept_\n",
    "print \"Coefficients:\", reg.coef_\n",
    "ax = wage_df.plot(x=\"age\", y=\"wage\", style=\"o\")\n",
    "ax.set_ylabel(\"wage\")\n",
    "xs = range(int(np.min(x1)), int(np.max(x1)))\n",
    "ys = [reg.predict([x, x**2, x**3, x**4]) for x in xs]\n",
    "ax.plot(xs, ys, 'r', linewidth=2.5)"
   ]
  },
  {
   "cell_type": "markdown",
   "metadata": {},
   "source": [
    "R's summary() function applied to a linear model returns p-values for each coefficient, which enables one to guage the significance of each feature. Scikit-Learn does not provide anything similar, but it does provide methods for feature selection which provides p-values and scores. Based on p-values and scores below, it appears that the 4th degree feature is the least important of the four. However, R reports a p-value of 0.05 for the 4th power."
   ]
  },
  {
   "cell_type": "code",
   "execution_count": 8,
   "metadata": {
    "collapsed": false
   },
   "outputs": [
    {
     "ename": "NameError",
     "evalue": "name 'y' is not defined",
     "output_type": "error",
     "traceback": [
      "\u001b[1;31m---------------------------------------------------------------------------\u001b[0m",
      "\u001b[1;31mNameError\u001b[0m                                 Traceback (most recent call last)",
      "\u001b[1;32m<ipython-input-8-e1bb374688df>\u001b[0m in \u001b[0;36m<module>\u001b[1;34m()\u001b[0m\n\u001b[0;32m      1\u001b[0m \u001b[0mselector\u001b[0m \u001b[1;33m=\u001b[0m \u001b[0mSelectKBest\u001b[0m\u001b[1;33m(\u001b[0m\u001b[0mscore_func\u001b[0m\u001b[1;33m=\u001b[0m\u001b[0mf_regression\u001b[0m\u001b[1;33m,\u001b[0m \u001b[0mk\u001b[0m\u001b[1;33m=\u001b[0m\u001b[1;36m10\u001b[0m\u001b[1;33m)\u001b[0m\u001b[1;33m\u001b[0m\u001b[0m\n\u001b[1;32m----> 2\u001b[1;33m \u001b[0mselector\u001b[0m\u001b[1;33m.\u001b[0m\u001b[0mfit\u001b[0m\u001b[1;33m(\u001b[0m\u001b[0mX\u001b[0m\u001b[1;33m,\u001b[0m \u001b[0my\u001b[0m\u001b[1;33m)\u001b[0m\u001b[1;33m\u001b[0m\u001b[0m\n\u001b[0m\u001b[0;32m      3\u001b[0m \u001b[1;33m(\u001b[0m\u001b[0mselector\u001b[0m\u001b[1;33m.\u001b[0m\u001b[0mscores_\u001b[0m\u001b[1;33m,\u001b[0m \u001b[0mselector\u001b[0m\u001b[1;33m.\u001b[0m\u001b[0mpvalues_\u001b[0m\u001b[1;33m)\u001b[0m\u001b[1;33m\u001b[0m\u001b[0m\n",
      "\u001b[1;31mNameError\u001b[0m: name 'y' is not defined"
     ]
    }
   ],
   "source": [
    "selector = SelectKBest(score_func=f_regression, k=10)\n",
    "selector.fit(X, y)\n",
    "(selector.scores_, selector.pvalues_)"
   ]
  },
  {
   "cell_type": "markdown",
   "metadata": {},
   "source": [
    "The p-values observed from a linear model's summary() output only works as an indicator of feature importance if a single feature is being used. For multiple features, R advises the use of ANOVA. It turns out that the SelectKBest feature selector is [based on ANOVA](http://scikit-learn.org/stable/auto_examples/feature_selection_pipeline.html). The R example manually built models based on different feature sets then applied ANOVA to the models - there is no direct analog to that here.\n",
    "\n",
    "### Polynomial Logistic Regression ###\n",
    "\n",
    "Fitting a Logistic Regression model to a binary response variable. The response variable is \"high-earners\" where the salary > 250K."
   ]
  },
  {
   "cell_type": "code",
   "execution_count": 9,
   "metadata": {
    "collapsed": false
   },
   "outputs": [
    {
     "ename": "SyntaxError",
     "evalue": "Missing parentheses in call to 'print' (<ipython-input-9-9fe16a8d821e>, line 5)",
     "output_type": "error",
     "traceback": [
      "\u001b[1;36m  File \u001b[1;32m\"<ipython-input-9-9fe16a8d821e>\"\u001b[1;36m, line \u001b[1;32m5\u001b[0m\n\u001b[1;33m    print \"Intercepts:\", reg.intercept_\u001b[0m\n\u001b[1;37m                      ^\u001b[0m\n\u001b[1;31mSyntaxError\u001b[0m\u001b[1;31m:\u001b[0m Missing parentheses in call to 'print'\n"
     ]
    }
   ],
   "source": [
    "X = np.vstack((x1, x2, x3)).T\n",
    "y = wage_df[\"wage\"].map(lambda w: 1 if w > 250 else 0).values\n",
    "reg = LogisticRegression()\n",
    "reg.fit(X, y)\n",
    "print \"Intercepts:\", reg.intercept_\n",
    "print \"Coefficients:\", reg.coef_\n",
    "ypred = reg.predict(X)\n",
    "print \"MSE:\", mean_squared_error(y, ypred)\n",
    "\n",
    "# Plot the predicted probability of being a high-earner over age range\n",
    "ages = wage_df[\"age\"].values\n",
    "xs = range(np.min(ages), np.max(ages))\n",
    "ys = [reg.predict_proba(np.array([x, x*x, x*x*x]))[0][0] for x in xs]\n",
    "plt.plot(xs, ys)\n",
    "plt.xlabel(\"age\")\n",
    "plt.ylabel(\"p(wage > 250k)\")"
   ]
  },
  {
   "cell_type": "markdown",
   "metadata": {},
   "source": [
    "### Splines ###\n",
    "\n",
    "Splines is a curve approximated by a series of straight lines. The breaks in the straight lines are called knots. The idea is to fit multiple linear models to these ranges, one each for each straight line segment. Scipy offers the UnivariateSpline but it requires manual knot selection. The code snippet below uses Mean-Shift clustering to automatically derive the knots based on this [thread on StackOverflow](http://stackoverflow.com/questions/8719754/scipy-interpolate-univariatespline-not-smoothing-regardless-of-parameters)."
   ]
  },
  {
   "cell_type": "code",
   "execution_count": 10,
   "metadata": {
    "collapsed": false
   },
   "outputs": [
    {
     "data": {
      "text/plain": [
       "[<matplotlib.lines.Line2D at 0x7f6d06714fd0>]"
      ]
     },
     "execution_count": 10,
     "metadata": {},
     "output_type": "execute_result"
    },
    {
     "data": {
      "image/png": "[encoded data removed]",
      "text/plain": [
       "<matplotlib.figure.Figure at 0x7f6cf9b8a278>"
      ]
     },
     "metadata": {},
     "output_type": "display_data"
    }
   ],
   "source": [
    "ages = wage_df[\"age\"].values\n",
    "wages = wage_df[\"wage\"].values\n",
    "X = np.vstack((ages, wages)).T\n",
    "# cluster points to find the knot location\n",
    "msc = MeanShift()\n",
    "msc.fit(X)\n",
    "knots = msc.cluster_centers_[:, 0]\n",
    "\n",
    "# fit a spline over the points\n",
    "spl = LSQUnivariateSpline(ages, wages, knots)\n",
    "xs = range(np.min(ages), np.max(ages))\n",
    "ys = spl(xs)\n",
    "\n",
    "# plot the points and the spline\n",
    "ax = wage_df.plot(x=\"age\", y=\"wage\", style=\"o\")\n",
    "ax.set_ylabel(\"wage\")\n",
    "ax.plot(xs, ys, 'r', linewidth=2.5)"
   ]
  },
  {
   "cell_type": "markdown",
   "metadata": {},
   "source": [
    "### Generalized Additive Models ###\n",
    "\n",
    "Generalized Additive Models are not yet available under Scikit-Learn. It was one of the projects proposed for GSoC 2014 but as far as I know it did not get approved. StatsModel has an untested implementation. Since it is not available in Python, I decided to skip it for now."
   ]
  },
  {
   "cell_type": "code",
   "execution_count": null,
   "metadata": {
    "collapsed": true
   },
   "outputs": [],
   "source": []
  }
 ],
 "metadata": {
  "kernelspec": {
   "display_name": "Python 3",
   "language": "python",
   "name": "python3"
  },
  "language_info": {
   "codemirror_mode": {
    "name": "ipython",
    "version": 3
   },
   "file_extension": ".py",
   "mimetype": "text/x-python",
   "name": "python",
   "nbconvert_exporter": "python",
   "pygments_lexer": "ipython3",
   "version": "3.4.3"
  }
 },
 "nbformat": 4,
 "nbformat_minor": 0
}
