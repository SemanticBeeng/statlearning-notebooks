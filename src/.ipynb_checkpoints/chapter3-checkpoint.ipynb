{
 "cells": [
  {
   "cell_type": "markdown",
   "metadata": {},
   "source": [
    "## Chapter 3: Linear Regression ##\n",
    "\n",
    "### Simple Linear Regression ###"
   ]
  },
  {
   "cell_type": "code",
   "execution_count": 1,
   "metadata": {
    "collapsed": false
   },
   "outputs": [],
   "source": [
    "import pandas as pd\n",
    "import numpy as np\n",
    "import scipy as sp\n",
    "import statsmodels.api as sm\n",
    "import matplotlib.pyplot as plt\n",
    "from sklearn.linear_model import LinearRegression\n",
    "%matplotlib inline"
   ]
  },
  {
   "cell_type": "code",
   "execution_count": 2,
   "metadata": {
    "collapsed": false
   },
   "outputs": [
    {
     "data": {
      "text/html": [
       "<div style=\"max-height:1000px;max-width:1500px;overflow:auto;\">\n",
       "<table border=\"1\" class=\"dataframe\">\n",
       "  <thead>\n",
       "    <tr style=\"text-align: right;\">\n",
       "      <th></th>\n",
       "      <th>crim</th>\n",
       "      <th>zn</th>\n",
       "      <th>indus</th>\n",
       "      <th>chas</th>\n",
       "      <th>nox</th>\n",
       "      <th>rm</th>\n",
       "      <th>age</th>\n",
       "      <th>dis</th>\n",
       "      <th>rad</th>\n",
       "      <th>tax</th>\n",
       "      <th>ptratio</th>\n",
       "      <th>black</th>\n",
       "      <th>lstat</th>\n",
       "      <th>medv</th>\n",
       "    </tr>\n",
       "  </thead>\n",
       "  <tbody>\n",
       "    <tr>\n",
       "      <th>0</th>\n",
       "      <td> 0.00632</td>\n",
       "      <td> 18</td>\n",
       "      <td> 2.31</td>\n",
       "      <td> 0</td>\n",
       "      <td> 0.538</td>\n",
       "      <td> 6.575</td>\n",
       "      <td> 65.2</td>\n",
       "      <td> 4.0900</td>\n",
       "      <td> 1</td>\n",
       "      <td> 296</td>\n",
       "      <td> 15.3</td>\n",
       "      <td> 396.90</td>\n",
       "      <td> 4.98</td>\n",
       "      <td> 24.0</td>\n",
       "    </tr>\n",
       "    <tr>\n",
       "      <th>1</th>\n",
       "      <td> 0.02731</td>\n",
       "      <td>  0</td>\n",
       "      <td> 7.07</td>\n",
       "      <td> 0</td>\n",
       "      <td> 0.469</td>\n",
       "      <td> 6.421</td>\n",
       "      <td> 78.9</td>\n",
       "      <td> 4.9671</td>\n",
       "      <td> 2</td>\n",
       "      <td> 242</td>\n",
       "      <td> 17.8</td>\n",
       "      <td> 396.90</td>\n",
       "      <td> 9.14</td>\n",
       "      <td> 21.6</td>\n",
       "    </tr>\n",
       "    <tr>\n",
       "      <th>2</th>\n",
       "      <td> 0.02729</td>\n",
       "      <td>  0</td>\n",
       "      <td> 7.07</td>\n",
       "      <td> 0</td>\n",
       "      <td> 0.469</td>\n",
       "      <td> 7.185</td>\n",
       "      <td> 61.1</td>\n",
       "      <td> 4.9671</td>\n",
       "      <td> 2</td>\n",
       "      <td> 242</td>\n",
       "      <td> 17.8</td>\n",
       "      <td> 392.83</td>\n",
       "      <td> 4.03</td>\n",
       "      <td> 34.7</td>\n",
       "    </tr>\n",
       "    <tr>\n",
       "      <th>3</th>\n",
       "      <td> 0.03237</td>\n",
       "      <td>  0</td>\n",
       "      <td> 2.18</td>\n",
       "      <td> 0</td>\n",
       "      <td> 0.458</td>\n",
       "      <td> 6.998</td>\n",
       "      <td> 45.8</td>\n",
       "      <td> 6.0622</td>\n",
       "      <td> 3</td>\n",
       "      <td> 222</td>\n",
       "      <td> 18.7</td>\n",
       "      <td> 394.63</td>\n",
       "      <td> 2.94</td>\n",
       "      <td> 33.4</td>\n",
       "    </tr>\n",
       "    <tr>\n",
       "      <th>4</th>\n",
       "      <td> 0.06905</td>\n",
       "      <td>  0</td>\n",
       "      <td> 2.18</td>\n",
       "      <td> 0</td>\n",
       "      <td> 0.458</td>\n",
       "      <td> 7.147</td>\n",
       "      <td> 54.2</td>\n",
       "      <td> 6.0622</td>\n",
       "      <td> 3</td>\n",
       "      <td> 222</td>\n",
       "      <td> 18.7</td>\n",
       "      <td> 396.90</td>\n",
       "      <td> 5.33</td>\n",
       "      <td> 36.2</td>\n",
       "    </tr>\n",
       "  </tbody>\n",
       "</table>\n",
       "</div>"
      ],
      "text/plain": [
       "      crim  zn  indus  chas    nox     rm   age     dis  rad  tax  ptratio  \\\n",
       "0  0.00632  18   2.31     0  0.538  6.575  65.2  4.0900    1  296     15.3   \n",
       "1  0.02731   0   7.07     0  0.469  6.421  78.9  4.9671    2  242     17.8   \n",
       "2  0.02729   0   7.07     0  0.469  7.185  61.1  4.9671    2  242     17.8   \n",
       "3  0.03237   0   2.18     0  0.458  6.998  45.8  6.0622    3  222     18.7   \n",
       "4  0.06905   0   2.18     0  0.458  7.147  54.2  6.0622    3  222     18.7   \n",
       "\n",
       "    black  lstat  medv  \n",
       "0  396.90   4.98  24.0  \n",
       "1  396.90   9.14  21.6  \n",
       "2  392.83   4.03  34.7  \n",
       "3  394.63   2.94  33.4  \n",
       "4  396.90   5.33  36.2  "
      ]
     },
     "execution_count": 2,
     "metadata": {},
     "output_type": "execute_result"
    }
   ],
   "source": [
    "# Data from R ISLR package - write.csv(Boston, \"Boston.csv\", col.names = FALSE)\n",
    "boston_df = pd.read_csv(\"../data/Boston.csv\")\n",
    "boston_df.head()"
   ]
  },
  {
   "cell_type": "code",
   "execution_count": 3,
   "metadata": {
    "collapsed": false
   },
   "outputs": [
    {
     "data": {
      "text/plain": [
       "<matplotlib.text.Text at 0x7fe1d414dc18>"
      ]
     },
     "execution_count": 3,
     "metadata": {},
     "output_type": "execute_result"
    },
    {
     "data": {
      "image/png": "[encoded data removed]",
      "text/plain": [
       "<matplotlib.figure.Figure at 0x7fe1d4197278>"
      ]
     },
     "metadata": {},
     "output_type": "display_data"
    }
   ],
   "source": [
    "# LSTAT - % of population with low status; MEDV - median value of home\n",
    "ax = boston_df.plot(x=\"lstat\", y=\"medv\", style=\"o\")\n",
    "ax.set_ylabel(\"medv\")"
   ]
  },
  {
   "cell_type": "code",
   "execution_count": 4,
   "metadata": {
    "collapsed": false
   },
   "outputs": [
    {
     "data": {
      "text/html": [
       "<table class=\"simpletable\">\n",
       "<caption>OLS Regression Results</caption>\n",
       "<tr>\n",
       "  <th>Dep. Variable:</th>            <td>y</td>        <th>  R-squared:         </th> <td>   0.544</td>\n",
       "</tr>\n",
       "<tr>\n",
       "  <th>Model:</th>                   <td>OLS</td>       <th>  Adj. R-squared:    </th> <td>   0.543</td>\n",
       "</tr>\n",
       "<tr>\n",
       "  <th>Method:</th>             <td>Least Squares</td>  <th>  F-statistic:       </th> <td>   601.6</td>\n",
       "</tr>\n",
       "<tr>\n",
       "  <th>Date:</th>             <td>Sun, 21 Jun 2015</td> <th>  Prob (F-statistic):</th> <td>5.08e-88</td>\n",
       "</tr>\n",
       "<tr>\n",
       "  <th>Time:</th>                 <td>11:00:07</td>     <th>  Log-Likelihood:    </th> <td> -1641.5</td>\n",
       "</tr>\n",
       "<tr>\n",
       "  <th>No. Observations:</th>      <td>   506</td>      <th>  AIC:               </th> <td>   3287.</td>\n",
       "</tr>\n",
       "<tr>\n",
       "  <th>Df Residuals:</th>          <td>   504</td>      <th>  BIC:               </th> <td>   3295.</td>\n",
       "</tr>\n",
       "<tr>\n",
       "  <th>Df Model:</th>              <td>     1</td>      <th>                     </th>     <td> </td>   \n",
       "</tr>\n",
       "<tr>\n",
       "  <th>Covariance Type:</th>      <td>nonrobust</td>    <th>                     </th>     <td> </td>   \n",
       "</tr>\n",
       "</table>\n",
       "<table class=\"simpletable\">\n",
       "<tr>\n",
       "    <td></td>       <th>coef</th>     <th>std err</th>      <th>t</th>      <th>P>|t|</th> <th>[95.0% Conf. Int.]</th> \n",
       "</tr>\n",
       "<tr>\n",
       "  <th>const</th> <td>   34.5538</td> <td>    0.563</td> <td>   61.415</td> <td> 0.000</td> <td>   33.448    35.659</td>\n",
       "</tr>\n",
       "<tr>\n",
       "  <th>x1</th>    <td>   -0.9500</td> <td>    0.039</td> <td>  -24.528</td> <td> 0.000</td> <td>   -1.026    -0.874</td>\n",
       "</tr>\n",
       "</table>\n",
       "<table class=\"simpletable\">\n",
       "<tr>\n",
       "  <th>Omnibus:</th>       <td>137.043</td> <th>  Durbin-Watson:     </th> <td>   0.892</td>\n",
       "</tr>\n",
       "<tr>\n",
       "  <th>Prob(Omnibus):</th> <td> 0.000</td>  <th>  Jarque-Bera (JB):  </th> <td> 291.373</td>\n",
       "</tr>\n",
       "<tr>\n",
       "  <th>Skew:</th>          <td> 1.453</td>  <th>  Prob(JB):          </th> <td>5.36e-64</td>\n",
       "</tr>\n",
       "<tr>\n",
       "  <th>Kurtosis:</th>      <td> 5.319</td>  <th>  Cond. No.          </th> <td>    29.7</td>\n",
       "</tr>\n",
       "</table>"
      ],
      "text/plain": [
       "<class 'statsmodels.iolib.summary.Summary'>\n",
       "\"\"\"\n",
       "                            OLS Regression Results                            \n",
       "==============================================================================\n",
       "Dep. Variable:                      y   R-squared:                       0.544\n",
       "Model:                            OLS   Adj. R-squared:                  0.543\n",
       "Method:                 Least Squares   F-statistic:                     601.6\n",
       "Date:                Sun, 21 Jun 2015   Prob (F-statistic):           5.08e-88\n",
       "Time:                        11:00:07   Log-Likelihood:                -1641.5\n",
       "No. Observations:                 506   AIC:                             3287.\n",
       "Df Residuals:                     504   BIC:                             3295.\n",
       "Df Model:                           1                                         \n",
       "Covariance Type:            nonrobust                                         \n",
       "==============================================================================\n",
       "                 coef    std err          t      P>|t|      [95.0% Conf. Int.]\n",
       "------------------------------------------------------------------------------\n",
       "const         34.5538      0.563     61.415      0.000        33.448    35.659\n",
       "x1            -0.9500      0.039    -24.528      0.000        -1.026    -0.874\n",
       "==============================================================================\n",
       "Omnibus:                      137.043   Durbin-Watson:                   0.892\n",
       "Prob(Omnibus):                  0.000   Jarque-Bera (JB):              291.373\n",
       "Skew:                           1.453   Prob(JB):                     5.36e-64\n",
       "Kurtosis:                       5.319   Cond. No.                         29.7\n",
       "==============================================================================\n",
       "\n",
       "Warnings:\n",
       "[1] Standard Errors assume that the covariance matrix of the errors is correctly specified.\n",
       "\"\"\""
      ]
     },
     "execution_count": 4,
     "metadata": {},
     "output_type": "execute_result"
    }
   ],
   "source": [
    "# The statsmodels library provides a small subset of models, but has more emphasis on\n",
    "# parameter estimation and statistical testing. The summary output is similar to R's\n",
    "# summary function.\n",
    "# X is an \"array\" of column values, y is a single column value\n",
    "X = boston_df[[\"lstat\"]].values\n",
    "X = sm.add_constant(X)  # add the intercept term\n",
    "y = boston_df[\"medv\"].values\n",
    "ols = sm.OLS(y, X).fit()\n",
    "ols.summary()"
   ]
  },
  {
   "cell_type": "code",
   "execution_count": 5,
   "metadata": {
    "collapsed": false
   },
   "outputs": [
    {
     "data": {
      "text/plain": [
       "(34.553840879383102, array([-0.95004935]))"
      ]
     },
     "execution_count": 5,
     "metadata": {},
     "output_type": "execute_result"
    }
   ],
   "source": [
    "# Scikit Learn provides a larger number of models, but has more of a Machine Learning POV\n",
    "# and doesn't come with the statistical testing data shown above. However, it produces an\n",
    "# identical linear model as shown below:\n",
    "reg = LinearRegression()\n",
    "X = boston_df[[\"lstat\"]].values\n",
    "y = boston_df[\"medv\"].values\n",
    "reg.fit(X, y)\n",
    "(reg.intercept_, reg.coef_)"
   ]
  },
  {
   "cell_type": "code",
   "execution_count": 6,
   "metadata": {
    "collapsed": false
   },
   "outputs": [
    {
     "data": {
      "text/plain": [
       "[<matplotlib.lines.Line2D at 0x7fe1d40a8da0>]"
      ]
     },
     "execution_count": 6,
     "metadata": {},
     "output_type": "execute_result"
    },
    {
     "data": {
      "image/png": "[encoded data removed]",
      "text/plain": [
       "<matplotlib.figure.Figure at 0x7fe1d40a8cc0>"
      ]
     },
     "metadata": {},
     "output_type": "display_data"
    }
   ],
   "source": [
    "# Drawing the regression line on top of the scatterplot\n",
    "ax = boston_df.plot(x=\"lstat\", y=\"medv\", style=\"o\")\n",
    "ax.set_ylabel(\"medv\")\n",
    "\n",
    "lstats = boston_df[\"lstat\"].values\n",
    "xs = range(int(np.min(X[:,0])), int(np.max(X[:,0])))\n",
    "ys = [reg.predict([x]) for x in xs]\n",
    "ax.plot(xs, ys, 'r', linewidth=2.5)"
   ]
  },
  {
   "cell_type": "code",
   "execution_count": 7,
   "metadata": {
    "collapsed": false
   },
   "outputs": [
    {
     "data": {
      "text/plain": [
       "array([ 29.80359411,  25.05334734,  20.30310057])"
      ]
     },
     "execution_count": 7,
     "metadata": {},
     "output_type": "execute_result"
    }
   ],
   "source": [
    "# Prediction\n",
    "test_data = [[5], [10], [15]]\n",
    "reg.predict(test_data)"
   ]
  },
  {
   "cell_type": "markdown",
   "metadata": {},
   "source": [
    "### Multiple Linear Regression ###"
   ]
  },
  {
   "cell_type": "code",
   "execution_count": 8,
   "metadata": {
    "collapsed": false
   },
   "outputs": [
    {
     "data": {
      "text/plain": [
       "(33.2227605317929, array([-1.03206856,  0.03454434]))"
      ]
     },
     "execution_count": 8,
     "metadata": {},
     "output_type": "execute_result"
    }
   ],
   "source": [
    "# regression with 2 input columns\n",
    "X = boston_df[[\"lstat\", \"age\"]]\n",
    "reg2 = LinearRegression()\n",
    "reg2.fit(X, y)\n",
    "(reg2.intercept_, reg2.coef_)"
   ]
  },
  {
   "cell_type": "code",
   "execution_count": 9,
   "metadata": {
    "collapsed": false
   },
   "outputs": [
    {
     "data": {
      "text/plain": [
       "(36.459488385089713,\n",
       " array([ -1.08011358e-01,   4.64204584e-02,   2.05586264e-02,\n",
       "          2.68673382e+00,  -1.77666112e+01,   3.80986521e+00,\n",
       "          6.92224640e-04,  -1.47556685e+00,   3.06049479e-01,\n",
       "         -1.23345939e-02,  -9.52747232e-01,   9.31168327e-03,\n",
       "         -5.24758378e-01]))"
      ]
     },
     "execution_count": 9,
     "metadata": {},
     "output_type": "execute_result"
    }
   ],
   "source": [
    "# regression using all input columns\n",
    "xcols = boston_df.columns[0:-1]\n",
    "X = boston_df[xcols]\n",
    "reg3 = LinearRegression()\n",
    "reg3.fit(X, y)\n",
    "(reg3.intercept_, reg3.coef_)"
   ]
  },
  {
   "cell_type": "code",
   "execution_count": 10,
   "metadata": {
    "collapsed": false
   },
   "outputs": [
    {
     "data": {
      "image/png": "[encoded data removed]",
      "text/plain": [
       "<matplotlib.figure.Figure at 0x7fe1d4041d30>"
      ]
     },
     "metadata": {},
     "output_type": "display_data"
    }
   ],
   "source": [
    "# Plotting a fitted regression with R returns 4 graphs - Residuals vs Fitted, Normal Q-Q,\n",
    "# Scale-Location (Standardized Residuals vs Fitted), and Residuals vs Leverage. Only the \n",
    "# Q-Q plot is available from statsmodels. The residuals vs Fitted function is implemented\n",
    "# below and is used for plot #1 and #3. The Residuals vs Leverage is TBD.\n",
    "def residuals_vs_fitted(fitted, residuals, xlabel, ylabel):\n",
    "    plt.subplot(111)\n",
    "    plt.xlabel(xlabel)\n",
    "    plt.ylabel(ylabel)\n",
    "    plt.scatter(fitted, residuals)\n",
    "    polyline = np.poly1d(np.polyfit(fitted, residuals, 2))    # model non-linearity with quadratic\n",
    "    xs = range(int(np.min(fitted)), int(np.max(fitted)))\n",
    "    plt.plot(xs, polyline(xs), color='r', linewidth=2.5)    \n",
    "\n",
    "def qq_plot(residuals):\n",
    "    sm.qqplot(residuals)\n",
    "\n",
    "def standardize(xs):\n",
    "    xmean = np.mean(xs)\n",
    "    xstd = np.std(xs)\n",
    "    return (xs - xmean) / xstd\n",
    "    \n",
    "fitted = reg3.predict(X)\n",
    "residuals = y - fitted\n",
    "std_residuals = standardize(residuals)\n",
    "\n",
    "residuals_vs_fitted(fitted, residuals, \"Fitted\", \"Residuals\")"
   ]
  },
  {
   "cell_type": "code",
   "execution_count": 13,
   "metadata": {
    "collapsed": false
   },
   "outputs": [
    {
     "data": {
      "image/png": "[encoded data removed]",
      "text/plain": [
       "<matplotlib.figure.Figure at 0x7fe1d40a87f0>"
      ]
     },
     "metadata": {},
     "output_type": "display_data"
    }
   ],
   "source": [
    "fig = sm.qqplot(residuals, dist=\"norm\", line=\"r\")"
   ]
  },
  {
   "cell_type": "code",
   "execution_count": 14,
   "metadata": {
    "collapsed": false
   },
   "outputs": [
    {
     "data": {
      "image/png": "[encoded data removed]",
      "text/plain": [
       "<matplotlib.figure.Figure at 0x7fe1d3ee2ac8>"
      ]
     },
     "metadata": {},
     "output_type": "display_data"
    }
   ],
   "source": [
    "residuals_vs_fitted(fitted, std_residuals, \"Fitted\", \"Std.Residuals\")"
   ]
  },
  {
   "cell_type": "markdown",
   "metadata": {},
   "source": [
    "### Nonlinear Terms and Interactions ###\n",
    "\n",
    "Python offers formula parsing support via the [Patsy](http://patsy.readthedocs.org/en/latest/) toolkit. StatsModels uses Patsy to provide formula parsing support for its models. But this can be easily implemented as temporary columns in Pandas dataframes as shown below."
   ]
  },
  {
   "cell_type": "code",
   "execution_count": 15,
   "metadata": {
    "collapsed": false
   },
   "outputs": [
    {
     "data": {
      "text/plain": [
       "(36.088535934612899,\n",
       " array([ -1.39211684e+00,  -7.20859509e-04,   4.15595185e-03]))"
      ]
     },
     "execution_count": 15,
     "metadata": {},
     "output_type": "execute_result"
    }
   ],
   "source": [
    "# fitting medv ~ lstat * age\n",
    "boston_df[\"lstat*age\"] = boston_df[\"lstat\"] * boston_df[\"age\"]\n",
    "reg5 = LinearRegression()\n",
    "X = boston_df[[\"lstat\", \"age\", \"lstat*age\"]]\n",
    "y = boston_df[\"medv\"]\n",
    "reg5.fit(X, y)\n",
    "(reg5.intercept_, reg5.coef_)"
   ]
  },
  {
   "cell_type": "code",
   "execution_count": 16,
   "metadata": {
    "collapsed": false
   },
   "outputs": [
    {
     "data": {
      "image/png": "[encoded data removed]",
      "text/plain": [
       "<matplotlib.figure.Figure at 0x7fe1d3e39b38>"
      ]
     },
     "metadata": {},
     "output_type": "display_data"
    }
   ],
   "source": [
    "fitted = reg5.predict(X)\n",
    "residuals = y - fitted\n",
    "std_residuals = standardize(residuals)\n",
    "residuals_vs_fitted(fitted, residuals, \"Fitted\", \"Residuals\")"
   ]
  },
  {
   "cell_type": "code",
   "execution_count": 17,
   "metadata": {
    "collapsed": false
   },
   "outputs": [
    {
     "data": {
      "text/plain": [
       "(42.862007328169355, array([-2.3328211 ,  0.04354689]))"
      ]
     },
     "execution_count": 17,
     "metadata": {},
     "output_type": "execute_result"
    }
   ],
   "source": [
    "# fitting medv ~ lstat + I(lstat^2)\n",
    "boston_df[\"lstat^2\"] = boston_df[\"lstat\"] ** 2\n",
    "reg6 = LinearRegression()\n",
    "X = boston_df[[\"lstat\", \"lstat^2\"]]\n",
    "y = boston_df[\"medv\"]\n",
    "reg6.fit(X, y)\n",
    "# save the predicted ys for given xs for future plot\n",
    "lstats = boston_df[\"lstat\"].values\n",
    "xs = range(int(np.min(lstats)), int(np.max(lstats)))\n",
    "ys6 = [reg6.predict([x, x*x]) for x in xs]\n",
    "(reg6.intercept_, reg6.coef_)"
   ]
  },
  {
   "cell_type": "code",
   "execution_count": 18,
   "metadata": {
    "collapsed": false
   },
   "outputs": [
    {
     "data": {
      "image/png": "[encoded data removed]",
      "text/plain": [
       "<matplotlib.figure.Figure at 0x7fe1d3e74f28>"
      ]
     },
     "metadata": {},
     "output_type": "display_data"
    }
   ],
   "source": [
    "fitted = reg6.predict(X)\n",
    "residuals = y - fitted\n",
    "std_residuals = standardize(residuals)\n",
    "residuals_vs_fitted(fitted, residuals, \"Fitted\", \"Residuals\")"
   ]
  },
  {
   "cell_type": "code",
   "execution_count": 19,
   "metadata": {
    "collapsed": false
   },
   "outputs": [
    {
     "data": {
      "text/plain": [
       "(46.800943987797851,\n",
       " array([ -1.17511351e-05,  -1.17511378e-05,   9.23027375e-02,\n",
       "         -3.27115207e+00]))"
      ]
     },
     "execution_count": 19,
     "metadata": {},
     "output_type": "execute_result"
    }
   ],
   "source": [
    "# fitting medv ~ poly(lstat,4). We already have lstat^2 and lstat from previous\n",
    "boston_df[\"lstat^4\"] = np.power(boston_df[\"lstat\"], 4)\n",
    "boston_df[\"lstat^3\"] = np.power(boston_df[\"lstat\"], 4)\n",
    "X = boston_df[[\"lstat^4\", \"lstat^3\", \"lstat^2\", \"lstat\"]]\n",
    "y = boston_df[\"medv\"]\n",
    "reg7 = LinearRegression()\n",
    "reg7.fit(X, y)\n",
    "ys7 = [reg7.predict([x**4, x**3, x**2, x]) for x in xs]\n",
    "(reg7.intercept_, reg7.coef_)"
   ]
  },
  {
   "cell_type": "code",
   "execution_count": 20,
   "metadata": {
    "collapsed": false
   },
   "outputs": [
    {
     "data": {
      "image/png": "[encoded data removed]",
      "text/plain": [
       "<matplotlib.figure.Figure at 0x7fe1d3da2588>"
      ]
     },
     "metadata": {},
     "output_type": "display_data"
    }
   ],
   "source": [
    "fitted = reg7.predict(X)\n",
    "residuals = y - fitted\n",
    "std_residuals = standardize(residuals)\n",
    "residuals_vs_fitted(fitted, residuals, \"Fitted\", \"Residuals\")"
   ]
  },
  {
   "cell_type": "code",
   "execution_count": 21,
   "metadata": {
    "collapsed": false
   },
   "outputs": [
    {
     "data": {
      "text/plain": [
       "[<matplotlib.lines.Line2D at 0x7fe1d3d2dbe0>]"
      ]
     },
     "execution_count": 21,
     "metadata": {},
     "output_type": "execute_result"
    },
    {
     "data": {
      "image/png": "[encoded data removed]",
      "text/plain": [
       "<matplotlib.figure.Figure at 0x7fe1d3d348d0>"
      ]
     },
     "metadata": {},
     "output_type": "display_data"
    }
   ],
   "source": [
    "# Plot the different lines. Not that the green line (reg7) follows the distribution\n",
    "# better than the red line (reg6).\n",
    "ax = boston_df.plot(x=\"lstat\", y=\"medv\", style=\"o\")\n",
    "ax.set_ylabel(\"medv\")\n",
    "plt.plot(xs, ys6, color='r', linewidth=2.5)\n",
    "plt.plot(xs, ys7, color='g', linewidth=2.5)"
   ]
  },
  {
   "cell_type": "markdown",
   "metadata": {},
   "source": [
    "### Qualitative Predictors ###"
   ]
  },
  {
   "cell_type": "code",
   "execution_count": 22,
   "metadata": {
    "collapsed": false
   },
   "outputs": [
    {
     "data": {
      "text/html": [
       "<div style=\"max-height:1000px;max-width:1500px;overflow:auto;\">\n",
       "<table border=\"1\" class=\"dataframe\">\n",
       "  <thead>\n",
       "    <tr style=\"text-align: right;\">\n",
       "      <th></th>\n",
       "      <th>Sales</th>\n",
       "      <th>CompPrice</th>\n",
       "      <th>Income</th>\n",
       "      <th>Advertising</th>\n",
       "      <th>Population</th>\n",
       "      <th>Price</th>\n",
       "      <th>ShelveLoc</th>\n",
       "      <th>Age</th>\n",
       "      <th>Education</th>\n",
       "      <th>Urban</th>\n",
       "      <th>US</th>\n",
       "    </tr>\n",
       "  </thead>\n",
       "  <tbody>\n",
       "    <tr>\n",
       "      <th>0</th>\n",
       "      <td>  9.50</td>\n",
       "      <td> 138</td>\n",
       "      <td>  73</td>\n",
       "      <td> 11</td>\n",
       "      <td> 276</td>\n",
       "      <td> 120</td>\n",
       "      <td>    Bad</td>\n",
       "      <td> 42</td>\n",
       "      <td> 17</td>\n",
       "      <td> Yes</td>\n",
       "      <td> Yes</td>\n",
       "    </tr>\n",
       "    <tr>\n",
       "      <th>1</th>\n",
       "      <td> 11.22</td>\n",
       "      <td> 111</td>\n",
       "      <td>  48</td>\n",
       "      <td> 16</td>\n",
       "      <td> 260</td>\n",
       "      <td>  83</td>\n",
       "      <td>   Good</td>\n",
       "      <td> 65</td>\n",
       "      <td> 10</td>\n",
       "      <td> Yes</td>\n",
       "      <td> Yes</td>\n",
       "    </tr>\n",
       "    <tr>\n",
       "      <th>2</th>\n",
       "      <td> 10.06</td>\n",
       "      <td> 113</td>\n",
       "      <td>  35</td>\n",
       "      <td> 10</td>\n",
       "      <td> 269</td>\n",
       "      <td>  80</td>\n",
       "      <td> Medium</td>\n",
       "      <td> 59</td>\n",
       "      <td> 12</td>\n",
       "      <td> Yes</td>\n",
       "      <td> Yes</td>\n",
       "    </tr>\n",
       "    <tr>\n",
       "      <th>3</th>\n",
       "      <td>  7.40</td>\n",
       "      <td> 117</td>\n",
       "      <td> 100</td>\n",
       "      <td>  4</td>\n",
       "      <td> 466</td>\n",
       "      <td>  97</td>\n",
       "      <td> Medium</td>\n",
       "      <td> 55</td>\n",
       "      <td> 14</td>\n",
       "      <td> Yes</td>\n",
       "      <td> Yes</td>\n",
       "    </tr>\n",
       "    <tr>\n",
       "      <th>4</th>\n",
       "      <td>  4.15</td>\n",
       "      <td> 141</td>\n",
       "      <td>  64</td>\n",
       "      <td>  3</td>\n",
       "      <td> 340</td>\n",
       "      <td> 128</td>\n",
       "      <td>    Bad</td>\n",
       "      <td> 38</td>\n",
       "      <td> 13</td>\n",
       "      <td> Yes</td>\n",
       "      <td>  No</td>\n",
       "    </tr>\n",
       "  </tbody>\n",
       "</table>\n",
       "</div>"
      ],
      "text/plain": [
       "   Sales  CompPrice  Income  Advertising  Population  Price ShelveLoc  Age  \\\n",
       "0   9.50        138      73           11         276    120       Bad   42   \n",
       "1  11.22        111      48           16         260     83      Good   65   \n",
       "2  10.06        113      35           10         269     80    Medium   59   \n",
       "3   7.40        117     100            4         466     97    Medium   55   \n",
       "4   4.15        141      64            3         340    128       Bad   38   \n",
       "\n",
       "   Education Urban   US  \n",
       "0         17   Yes  Yes  \n",
       "1         10   Yes  Yes  \n",
       "2         12   Yes  Yes  \n",
       "3         14   Yes  Yes  \n",
       "4         13   Yes   No  "
      ]
     },
     "execution_count": 22,
     "metadata": {},
     "output_type": "execute_result"
    }
   ],
   "source": [
    "# Data from ISLR package: write.csv(Carseats, 'Carseats.csv', col.names=FALSE)\n",
    "carseats_df = pd.read_csv(\"../data/Carseats.csv\")\n",
    "carseats_df.head()"
   ]
  },
  {
   "cell_type": "code",
   "execution_count": 23,
   "metadata": {
    "collapsed": false
   },
   "outputs": [
    {
     "data": {
      "text/plain": [
       "(5.9507954119908391e-14,\n",
       " array([  1.00000000e+00,  -3.85108612e-16,  -1.73472348e-16,\n",
       "          1.11022302e-16,  -6.24500451e-17,   3.19189120e-16,\n",
       "         -5.55111512e-17,  -5.55111512e-17,   2.77555756e-16,\n",
       "         -3.29597460e-17,   1.73472348e-18,   3.90312782e-18,\n",
       "         -2.29088002e-18]))"
      ]
     },
     "execution_count": 23,
     "metadata": {},
     "output_type": "execute_result"
    }
   ],
   "source": [
    "# convert non-numeric to factors\n",
    "carseats_df[\"ShelveLoc\"] = pd.factorize(carseats_df[\"ShelveLoc\"])[0]\n",
    "carseats_df[\"Urban\"] = pd.factorize(carseats_df[\"Urban\"])[0]\n",
    "carseats_df[\"US\"] = pd.factorize(carseats_df[\"US\"])[0]\n",
    "# Sales ~ . + Income:Advertising + Age:Price\n",
    "carseats_df[\"Income:Advertising\"] = carseats_df[\"Income\"] * carseats_df[\"Advertising\"]\n",
    "carseats_df[\"Age:Price\"] = carseats_df[\"Age\"] * carseats_df[\"Price\"]\n",
    "X = carseats_df[carseats_df[1:].columns]\n",
    "y = carseats_df[\"Sales\"]\n",
    "reg = LinearRegression()\n",
    "reg.fit(X, y)\n",
    "(reg.intercept_, reg.coef_)"
   ]
  },
  {
   "cell_type": "code",
   "execution_count": 24,
   "metadata": {
    "collapsed": false
   },
   "outputs": [
    {
     "data": {
      "text/html": [
       "<div style=\"max-height:1000px;max-width:1500px;overflow:auto;\">\n",
       "<table border=\"1\" class=\"dataframe\">\n",
       "  <thead>\n",
       "    <tr style=\"text-align: right;\">\n",
       "      <th></th>\n",
       "      <th>ShelveLoc_0</th>\n",
       "      <th>ShelveLoc_1</th>\n",
       "      <th>ShelveLoc_2</th>\n",
       "      <th>Urban_0</th>\n",
       "      <th>Urban_1</th>\n",
       "      <th>US_0</th>\n",
       "      <th>US_1</th>\n",
       "    </tr>\n",
       "  </thead>\n",
       "  <tbody>\n",
       "    <tr>\n",
       "      <th>0</th>\n",
       "      <td> 1</td>\n",
       "      <td> 0</td>\n",
       "      <td> 0</td>\n",
       "      <td> 1</td>\n",
       "      <td> 0</td>\n",
       "      <td> 1</td>\n",
       "      <td> 0</td>\n",
       "    </tr>\n",
       "    <tr>\n",
       "      <th>1</th>\n",
       "      <td> 0</td>\n",
       "      <td> 1</td>\n",
       "      <td> 0</td>\n",
       "      <td> 1</td>\n",
       "      <td> 0</td>\n",
       "      <td> 1</td>\n",
       "      <td> 0</td>\n",
       "    </tr>\n",
       "    <tr>\n",
       "      <th>2</th>\n",
       "      <td> 0</td>\n",
       "      <td> 0</td>\n",
       "      <td> 1</td>\n",
       "      <td> 1</td>\n",
       "      <td> 0</td>\n",
       "      <td> 1</td>\n",
       "      <td> 0</td>\n",
       "    </tr>\n",
       "    <tr>\n",
       "      <th>3</th>\n",
       "      <td> 0</td>\n",
       "      <td> 0</td>\n",
       "      <td> 1</td>\n",
       "      <td> 1</td>\n",
       "      <td> 0</td>\n",
       "      <td> 1</td>\n",
       "      <td> 0</td>\n",
       "    </tr>\n",
       "    <tr>\n",
       "      <th>4</th>\n",
       "      <td> 1</td>\n",
       "      <td> 0</td>\n",
       "      <td> 0</td>\n",
       "      <td> 1</td>\n",
       "      <td> 0</td>\n",
       "      <td> 0</td>\n",
       "      <td> 1</td>\n",
       "    </tr>\n",
       "  </tbody>\n",
       "</table>\n",
       "</div>"
      ],
      "text/plain": [
       "   ShelveLoc_0  ShelveLoc_1  ShelveLoc_2  Urban_0  Urban_1  US_0  US_1\n",
       "0            1            0            0        1        0     1     0\n",
       "1            0            1            0        1        0     1     0\n",
       "2            0            0            1        1        0     1     0\n",
       "3            0            0            1        1        0     1     0\n",
       "4            1            0            0        1        0     0     1"
      ]
     },
     "execution_count": 24,
     "metadata": {},
     "output_type": "execute_result"
    }
   ],
   "source": [
    "# R has a contrasts() function that shows how factors are encoded by default. We can do \n",
    "# this manually using scikit-learn's OneHotEncoder\n",
    "from sklearn.preprocessing import OneHotEncoder\n",
    "\n",
    "colnames = [\"ShelveLoc\", \"Urban\", \"US\"]\n",
    "enc = OneHotEncoder()\n",
    "X = carseats_df[colnames]\n",
    "enc.fit(X)\n",
    "X_tr = enc.transform(X).toarray()\n",
    "colnos = enc.n_values_\n",
    "colnames_tr = []\n",
    "for (idx, colname) in enumerate(colnames):\n",
    "    for i in range(0, colnos[idx]):\n",
    "        colnames_tr.append(colname + \"_\" + str(i))\n",
    "col = 0\n",
    "for colname_tr in colnames_tr:\n",
    "    carseats_df[colname_tr] = X_tr[:, col]\n",
    "    col = col + 1\n",
    "del carseats_df[\"ShelveLoc\"]\n",
    "del carseats_df[\"Urban\"]\n",
    "del carseats_df[\"US\"]\n",
    "carseats_df[colnames_tr].head()"
   ]
  },
  {
   "cell_type": "markdown",
   "metadata": {},
   "source": [
    "### Writing Functions ###\n",
    "\n",
    "We write a convenience function to plot a scatter plot and a regression line of two variables."
   ]
  },
  {
   "cell_type": "code",
   "execution_count": 25,
   "metadata": {
    "collapsed": false
   },
   "outputs": [
    {
     "data": {
      "image/png": "[encoded data removed]",
      "text/plain": [
       "<matplotlib.figure.Figure at 0x7fe1d3ce50f0>"
      ]
     },
     "metadata": {},
     "output_type": "display_data"
    }
   ],
   "source": [
    "def regplot(x, y, xlabel, ylabel, dot_style, line_color):\n",
    "    x = x.values\n",
    "    y = y.values\n",
    "    reg = LinearRegression()\n",
    "    X = np.matrix(x).T\n",
    "    reg.fit(X, y)\n",
    "    ax = plt.scatter(x, y, marker=dot_style)\n",
    "    plt.xlabel(xlabel)\n",
    "    plt.ylabel(ylabel)\n",
    "    xs = range(int(np.min(x)), int(np.max(x)))\n",
    "    ys = [reg.predict(x) for x in xs]\n",
    "    plt.plot(xs, ys, color=line_color, linewidth=2.5)\n",
    "\n",
    "regplot(carseats_df[\"Price\"], carseats_df[\"Sales\"], \"Price\", \"Sales\", 'o', 'r')"
   ]
  },
  {
   "cell_type": "code",
   "execution_count": null,
   "metadata": {
    "collapsed": true
   },
   "outputs": [],
   "source": []
  },
  {
   "cell_type": "code",
   "execution_count": null,
   "metadata": {
    "collapsed": true
   },
   "outputs": [],
   "source": []
  },
  {
   "cell_type": "code",
   "execution_count": null,
   "metadata": {
    "collapsed": true
   },
   "outputs": [],
   "source": []
  },
  {
   "cell_type": "code",
   "execution_count": null,
   "metadata": {
    "collapsed": true
   },
   "outputs": [],
   "source": []
  },
  {
   "cell_type": "code",
   "execution_count": null,
   "metadata": {
    "collapsed": true
   },
   "outputs": [],
   "source": []
  },
  {
   "cell_type": "code",
   "execution_count": null,
   "metadata": {
    "collapsed": true
   },
   "outputs": [],
   "source": []
  }
 ],
 "metadata": {
  "kernelspec": {
   "display_name": "Python 3",
   "language": "python",
   "name": "python3"
  },
  "language_info": {
   "codemirror_mode": {
    "name": "ipython",
    "version": 3
   },
   "file_extension": ".py",
   "mimetype": "text/x-python",
   "name": "python",
   "nbconvert_exporter": "python",
   "pygments_lexer": "ipython3",
   "version": "3.4.3"
  }
 },
 "nbformat": 4,
 "nbformat_minor": 0
}
