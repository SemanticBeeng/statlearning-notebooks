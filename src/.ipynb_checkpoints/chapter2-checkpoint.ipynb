{
 "cells": [
  {
   "cell_type": "markdown",
   "metadata": {},
   "source": [
    "## Chapter 2: Basic Operations ##\n",
    "\n",
    "### Vectors, Data, Matrices and Subsetting ###"
   ]
  },
  {
   "cell_type": "code",
   "execution_count": 2,
   "metadata": {
    "collapsed": false
   },
   "outputs": [],
   "source": [
    "from __future__ import division\n",
    "import pandas as pd\n",
    "import numpy as np\n",
    "import matplotlib.pyplot as plt\n",
    "%matplotlib inline"
   ]
  },
  {
   "cell_type": "code",
   "execution_count": 3,
   "metadata": {
    "collapsed": false
   },
   "outputs": [
    {
     "data": {
      "text/plain": [
       "array([2, 7, 5])"
      ]
     },
     "execution_count": 3,
     "metadata": {},
     "output_type": "execute_result"
    }
   ],
   "source": [
    "x = np.array([2,7,5])    # explicit vector creation\n",
    "x"
   ]
  },
  {
   "cell_type": "code",
   "execution_count": 4,
   "metadata": {
    "collapsed": false
   },
   "outputs": [
    {
     "data": {
      "text/plain": [
       "array([ 4,  7, 10])"
      ]
     },
     "execution_count": 4,
     "metadata": {},
     "output_type": "execute_result"
    }
   ],
   "source": [
    "y = np.arange(4, 13, 3)  # vector creation from a sequence (start, stop, step)\n",
    "y"
   ]
  },
  {
   "cell_type": "code",
   "execution_count": 5,
   "metadata": {
    "collapsed": false
   },
   "outputs": [
    {
     "data": {
      "text/plain": [
       "array([ 6, 14, 15])"
      ]
     },
     "execution_count": 5,
     "metadata": {},
     "output_type": "execute_result"
    }
   ],
   "source": [
    "x + y    # vectors can be added"
   ]
  },
  {
   "cell_type": "code",
   "execution_count": 6,
   "metadata": {
    "collapsed": false
   },
   "outputs": [
    {
     "data": {
      "text/plain": [
       "array([ 0.5,  1. ,  0.5])"
      ]
     },
     "execution_count": 6,
     "metadata": {},
     "output_type": "execute_result"
    }
   ],
   "source": [
    "x / y    # divided"
   ]
  },
  {
   "cell_type": "code",
   "execution_count": 7,
   "metadata": {
    "collapsed": false
   },
   "outputs": [
    {
     "data": {
      "text/plain": [
       "array([     16,  823543, 9765625])"
      ]
     },
     "execution_count": 7,
     "metadata": {},
     "output_type": "execute_result"
    }
   ],
   "source": [
    "x ** y    # exponentiated"
   ]
  },
  {
   "cell_type": "code",
   "execution_count": 8,
   "metadata": {
    "collapsed": false
   },
   "outputs": [
    {
     "data": {
      "text/plain": [
       "7"
      ]
     },
     "execution_count": 8,
     "metadata": {},
     "output_type": "execute_result"
    }
   ],
   "source": [
    "x[1]    # vector elements can be selected by position"
   ]
  },
  {
   "cell_type": "code",
   "execution_count": 9,
   "metadata": {
    "collapsed": false
   },
   "outputs": [
    {
     "data": {
      "text/plain": [
       "array([7, 5])"
      ]
     },
     "execution_count": 9,
     "metadata": {},
     "output_type": "execute_result"
    }
   ],
   "source": [
    "x[1:3]  # multiple elements can be selected using slices"
   ]
  },
  {
   "cell_type": "code",
   "execution_count": 10,
   "metadata": {
    "collapsed": false
   },
   "outputs": [
    {
     "data": {
      "text/plain": [
       "7"
      ]
     },
     "execution_count": 10,
     "metadata": {},
     "output_type": "execute_result"
    }
   ],
   "source": [
    "x[-2]  # elements can be specified as offset from end"
   ]
  },
  {
   "cell_type": "code",
   "execution_count": 11,
   "metadata": {
    "collapsed": false
   },
   "outputs": [
    {
     "data": {
      "text/plain": [
       "array([2, 7])"
      ]
     },
     "execution_count": 11,
     "metadata": {},
     "output_type": "execute_result"
    }
   ],
   "source": [
    "x[np.array([0,1])]  # elements can be specified as an array"
   ]
  },
  {
   "cell_type": "code",
   "execution_count": 12,
   "metadata": {
    "collapsed": false
   },
   "outputs": [
    {
     "data": {
      "text/plain": [
       "matrix([[ 1,  2,  3],\n",
       "        [ 4,  5,  6],\n",
       "        [ 7,  8,  9],\n",
       "        [10, 11, 12]])"
      ]
     },
     "execution_count": 12,
     "metadata": {},
     "output_type": "execute_result"
    }
   ],
   "source": [
    "Z = np.matrix(np.arange(1,13)).reshape((4, 3))\n",
    "Z                 # note: R arranges the elements column-wise"
   ]
  },
  {
   "cell_type": "code",
   "execution_count": 13,
   "metadata": {
    "collapsed": false
   },
   "outputs": [
    {
     "data": {
      "text/plain": [
       "matrix([[ 8,  9],\n",
       "        [11, 12]])"
      ]
     },
     "execution_count": 13,
     "metadata": {},
     "output_type": "execute_result"
    }
   ],
   "source": [
    "Z[2:4, 1:3]    # R is 1-based and includes ending index, Python is 0 based and does not."
   ]
  },
  {
   "cell_type": "code",
   "execution_count": 14,
   "metadata": {
    "collapsed": false
   },
   "outputs": [
    {
     "data": {
      "text/plain": [
       "matrix([[ 2,  3],\n",
       "        [ 5,  6],\n",
       "        [ 8,  9],\n",
       "        [11, 12]])"
      ]
     },
     "execution_count": 14,
     "metadata": {},
     "output_type": "execute_result"
    }
   ],
   "source": [
    "Z[:, 1:3]    # column slice"
   ]
  },
  {
   "cell_type": "code",
   "execution_count": 15,
   "metadata": {
    "collapsed": false
   },
   "outputs": [
    {
     "data": {
      "text/plain": [
       "(4, 3)"
      ]
     },
     "execution_count": 15,
     "metadata": {},
     "output_type": "execute_result"
    }
   ],
   "source": [
    "Z.shape"
   ]
  },
  {
   "cell_type": "markdown",
   "metadata": {},
   "source": [
    "### Generating Random Data, Graphics ###"
   ]
  },
  {
   "cell_type": "code",
   "execution_count": 16,
   "metadata": {
    "collapsed": false
   },
   "outputs": [
    {
     "data": {
      "text/plain": [
       "array([ 0.38699061,  0.02953473,  0.42504345,  0.58787455,  0.96548684,\n",
       "        0.41132149,  0.03235299,  0.54984119,  0.08394556,  0.41039009,\n",
       "        0.59592111,  0.04587671,  0.4200332 ,  0.40186079,  0.6962879 ,\n",
       "        0.64904014,  0.54090021,  0.63753495,  0.51824448,  0.21871893,\n",
       "        0.66679608,  0.09864326,  0.06799123,  0.34840464,  0.31382255,\n",
       "        0.09673464,  0.35789716,  0.84355363,  0.52216799,  0.47569013,\n",
       "        0.15267244,  0.44489893,  0.91308112,  0.53855057,  0.51440172,\n",
       "        0.03794436,  0.37952737,  0.58045041,  0.70771174,  0.47847727,\n",
       "        0.99619429,  0.23226421,  0.69065535,  0.64364179,  0.20247411,\n",
       "        0.35758282,  0.35382213,  0.03274263,  0.67652671,  0.57355579])"
      ]
     },
     "execution_count": 16,
     "metadata": {},
     "output_type": "execute_result"
    }
   ],
   "source": [
    "x = np.random.uniform(0.0, 1.0, 50)\n",
    "x"
   ]
  },
  {
   "cell_type": "code",
   "execution_count": 17,
   "metadata": {
    "collapsed": false
   },
   "outputs": [
    {
     "data": {
      "text/plain": [
       "array([ 0.32250259,  0.26867588, -1.48574834,  3.23236402, -1.0425128 ,\n",
       "       -0.73863945,  0.07947436,  0.45143985, -0.7033389 ,  0.18776118,\n",
       "       -0.88917155,  0.77088663, -0.35835412,  0.01521641,  0.52549742,\n",
       "       -0.44228314, -0.38228902,  0.4796628 , -0.3739409 , -0.27274115,\n",
       "       -0.61986713,  0.1483561 , -0.38644349, -0.16512774, -0.46319502,\n",
       "       -0.25540743,  0.4680104 ,  1.67500265,  0.71127331, -0.42877613,\n",
       "       -0.39749889, -0.69023588, -0.88006897,  1.19203117,  1.52992062,\n",
       "       -0.76970618, -1.51000855, -1.24258027, -1.31555942,  0.78122991,\n",
       "        0.74730351,  0.70121643, -1.38011923, -1.83953156, -1.73135243,\n",
       "        1.9765305 ,  0.52165841,  0.77560731, -0.61212488, -0.23604957])"
      ]
     },
     "execution_count": 17,
     "metadata": {},
     "output_type": "execute_result"
    }
   ],
   "source": [
    "y = np.random.normal(0.0, 1.0, 50)\n",
    "y"
   ]
  },
  {
   "cell_type": "code",
   "execution_count": 18,
   "metadata": {
    "collapsed": false
   },
   "outputs": [
    {
     "data": {
      "text/plain": [
       "<matplotlib.collections.PathCollection at 0x7f5248243780>"
      ]
     },
     "execution_count": 18,
     "metadata": {},
     "output_type": "execute_result"
    },
    {
     "data": {
      "image/png": "[encoded data removed]",
      "text/plain": [
       "<matplotlib.figure.Figure at 0x7f5248243550>"
      ]
     },
     "metadata": {},
     "output_type": "display_data"
    }
   ],
   "source": [
    "fig, ax = plt.subplots()\n",
    "plt.scatter(x, y)"
   ]
  },
  {
   "cell_type": "code",
   "execution_count": 19,
   "metadata": {
    "collapsed": false
   },
   "outputs": [
    {
     "data": {
      "text/plain": [
       "<matplotlib.collections.PathCollection at 0x7f5248145b00>"
      ]
     },
     "execution_count": 19,
     "metadata": {},
     "output_type": "execute_result"
    },
    {
     "data": {
      "image/png": "[encoded data removed]",
      "text/plain": [
       "<matplotlib.figure.Figure at 0x7f52481cb4a8>"
      ]
     },
     "metadata": {},
     "output_type": "display_data"
    }
   ],
   "source": [
    "fig, ax = plt.subplots()\n",
    "plt.xlabel(\"Random Uniform\")\n",
    "plt.ylabel(\"Random Normal\")\n",
    "plt.scatter(x, y, marker='o', color='red')  # plot customizations"
   ]
  },
  {
   "cell_type": "code",
   "execution_count": 20,
   "metadata": {
    "collapsed": false
   },
   "outputs": [
    {
     "data": {
      "text/plain": [
       "(array([  5.,   5.,  14.,   8.,   7.,   7.,   2.,   1.,   0.,   1.]),\n",
       " array([-1.83953156, -1.332342  , -0.82515244, -0.31796288,  0.18922667,\n",
       "         0.69641623,  1.20360579,  1.71079535,  2.2179849 ,  2.72517446,\n",
       "         3.23236402]),\n",
       " <a list of 10 Patch objects>)"
      ]
     },
     "execution_count": 20,
     "metadata": {},
     "output_type": "execute_result"
    },
    {
     "data": {
      "image/png": "[encoded data removed]",
      "text/plain": [
       "<matplotlib.figure.Figure at 0x7f5248154cf8>"
      ]
     },
     "metadata": {},
     "output_type": "display_data"
    }
   ],
   "source": [
    "plt.subplot(121)    # parameter indicates 1 rows, 2 col, first figure\n",
    "plt.scatter(x, y)\n",
    "plt.subplot(122)\n",
    "plt.hist(y)"
   ]
  },
  {
   "cell_type": "markdown",
   "metadata": {},
   "source": [
    "### Reading in data ###"
   ]
  },
  {
   "cell_type": "code",
   "execution_count": 21,
   "metadata": {
    "collapsed": false
   },
   "outputs": [
    {
     "data": {
      "text/plain": [
       "Index(['mpg', 'cylinders', 'displacement', 'horsepower', 'weight', 'acceleration', 'year', 'origin', 'name'], dtype='object')"
      ]
     },
     "execution_count": 21,
     "metadata": {},
     "output_type": "execute_result"
    }
   ],
   "source": [
    "# data comes from ISL book site: http://www-bcf.usc.edu/~gareth/ISL/data.html\n",
    "auto_df = pd.read_csv(\"../data/Auto.csv\")\n",
    "auto_df.columns     # column names"
   ]
  },
  {
   "cell_type": "code",
   "execution_count": 22,
   "metadata": {
    "collapsed": false
   },
   "outputs": [
    {
     "data": {
      "text/plain": [
       "(397, 9)"
      ]
     },
     "execution_count": 22,
     "metadata": {},
     "output_type": "execute_result"
    }
   ],
   "source": [
    "auto_df.shape    # number of rows, number of columns"
   ]
  },
  {
   "cell_type": "code",
   "execution_count": 23,
   "metadata": {
    "collapsed": false
   },
   "outputs": [
    {
     "data": {
      "text/plain": [
       "pandas.core.frame.DataFrame"
      ]
     },
     "execution_count": 23,
     "metadata": {},
     "output_type": "execute_result"
    }
   ],
   "source": [
    "type(auto_df)"
   ]
  },
  {
   "cell_type": "code",
   "execution_count": 24,
   "metadata": {
    "collapsed": false
   },
   "outputs": [
    {
     "data": {
      "text/html": [
       "<div style=\"max-height:1000px;max-width:1500px;overflow:auto;\">\n",
       "<table border=\"1\" class=\"dataframe\">\n",
       "  <thead>\n",
       "    <tr style=\"text-align: right;\">\n",
       "      <th></th>\n",
       "      <th>mpg</th>\n",
       "      <th>cylinders</th>\n",
       "      <th>displacement</th>\n",
       "      <th>weight</th>\n",
       "      <th>acceleration</th>\n",
       "      <th>year</th>\n",
       "      <th>origin</th>\n",
       "    </tr>\n",
       "  </thead>\n",
       "  <tbody>\n",
       "    <tr>\n",
       "      <th>count</th>\n",
       "      <td> 397.000000</td>\n",
       "      <td> 397.000000</td>\n",
       "      <td> 397.000000</td>\n",
       "      <td>  397.000000</td>\n",
       "      <td> 397.000000</td>\n",
       "      <td> 397.000000</td>\n",
       "      <td> 397.000000</td>\n",
       "    </tr>\n",
       "    <tr>\n",
       "      <th>mean</th>\n",
       "      <td>  23.515869</td>\n",
       "      <td>   5.458438</td>\n",
       "      <td> 193.532746</td>\n",
       "      <td> 2970.261965</td>\n",
       "      <td>  15.555668</td>\n",
       "      <td>  75.994962</td>\n",
       "      <td>   1.574307</td>\n",
       "    </tr>\n",
       "    <tr>\n",
       "      <th>std</th>\n",
       "      <td>   7.825804</td>\n",
       "      <td>   1.701577</td>\n",
       "      <td> 104.379583</td>\n",
       "      <td>  847.904119</td>\n",
       "      <td>   2.749995</td>\n",
       "      <td>   3.690005</td>\n",
       "      <td>   0.802549</td>\n",
       "    </tr>\n",
       "    <tr>\n",
       "      <th>min</th>\n",
       "      <td>   9.000000</td>\n",
       "      <td>   3.000000</td>\n",
       "      <td>  68.000000</td>\n",
       "      <td> 1613.000000</td>\n",
       "      <td>   8.000000</td>\n",
       "      <td>  70.000000</td>\n",
       "      <td>   1.000000</td>\n",
       "    </tr>\n",
       "    <tr>\n",
       "      <th>25%</th>\n",
       "      <td>  17.500000</td>\n",
       "      <td>   4.000000</td>\n",
       "      <td> 104.000000</td>\n",
       "      <td> 2223.000000</td>\n",
       "      <td>  13.800000</td>\n",
       "      <td>  73.000000</td>\n",
       "      <td>   1.000000</td>\n",
       "    </tr>\n",
       "    <tr>\n",
       "      <th>50%</th>\n",
       "      <td>  23.000000</td>\n",
       "      <td>   4.000000</td>\n",
       "      <td> 146.000000</td>\n",
       "      <td> 2800.000000</td>\n",
       "      <td>  15.500000</td>\n",
       "      <td>  76.000000</td>\n",
       "      <td>   1.000000</td>\n",
       "    </tr>\n",
       "    <tr>\n",
       "      <th>75%</th>\n",
       "      <td>  29.000000</td>\n",
       "      <td>   8.000000</td>\n",
       "      <td> 262.000000</td>\n",
       "      <td> 3609.000000</td>\n",
       "      <td>  17.100000</td>\n",
       "      <td>  79.000000</td>\n",
       "      <td>   2.000000</td>\n",
       "    </tr>\n",
       "    <tr>\n",
       "      <th>max</th>\n",
       "      <td>  46.600000</td>\n",
       "      <td>   8.000000</td>\n",
       "      <td> 455.000000</td>\n",
       "      <td> 5140.000000</td>\n",
       "      <td>  24.800000</td>\n",
       "      <td>  82.000000</td>\n",
       "      <td>   3.000000</td>\n",
       "    </tr>\n",
       "  </tbody>\n",
       "</table>\n",
       "</div>"
      ],
      "text/plain": [
       "              mpg   cylinders  displacement       weight  acceleration  \\\n",
       "count  397.000000  397.000000    397.000000   397.000000    397.000000   \n",
       "mean    23.515869    5.458438    193.532746  2970.261965     15.555668   \n",
       "std      7.825804    1.701577    104.379583   847.904119      2.749995   \n",
       "min      9.000000    3.000000     68.000000  1613.000000      8.000000   \n",
       "25%     17.500000    4.000000    104.000000  2223.000000     13.800000   \n",
       "50%     23.000000    4.000000    146.000000  2800.000000     15.500000   \n",
       "75%     29.000000    8.000000    262.000000  3609.000000     17.100000   \n",
       "max     46.600000    8.000000    455.000000  5140.000000     24.800000   \n",
       "\n",
       "             year      origin  \n",
       "count  397.000000  397.000000  \n",
       "mean    75.994962    1.574307  \n",
       "std      3.690005    0.802549  \n",
       "min     70.000000    1.000000  \n",
       "25%     73.000000    1.000000  \n",
       "50%     76.000000    1.000000  \n",
       "75%     79.000000    2.000000  \n",
       "max     82.000000    3.000000  "
      ]
     },
     "execution_count": 24,
     "metadata": {},
     "output_type": "execute_result"
    }
   ],
   "source": [
    "auto_df.describe()  # equivalent of R's DataFrame.summary()"
   ]
  },
  {
   "cell_type": "code",
   "execution_count": 25,
   "metadata": {
    "collapsed": false
   },
   "outputs": [
    {
     "data": {
      "text/plain": [
       "<matplotlib.axes._subplots.AxesSubplot at 0x7f5247fdb1d0>"
      ]
     },
     "execution_count": 25,
     "metadata": {},
     "output_type": "execute_result"
    },
    {
     "data": {
      "image/png": "[encoded data removed]",
      "text/plain": [
       "<matplotlib.figure.Figure at 0x7f5248063cf8>"
      ]
     },
     "metadata": {},
     "output_type": "display_data"
    },
    {
     "data": {
      "image/png": "[encoded data removed]",
      "text/plain": [
       "<matplotlib.figure.Figure at 0x7f5247fd2780>"
      ]
     },
     "metadata": {},
     "output_type": "display_data"
    }
   ],
   "source": [
    "plt.ylabel(\"MPG\")\n",
    "auto_df.plot(x=\"cylinders\", y=\"mpg\", style='o')"
   ]
  },
  {
   "cell_type": "code",
   "execution_count": 26,
   "metadata": {
    "collapsed": false
   },
   "outputs": [
    {
     "data": {
      "text/plain": [
       "<matplotlib.axes._subplots.AxesSubplot at 0x7f5247fb6630>"
      ]
     },
     "execution_count": 26,
     "metadata": {},
     "output_type": "execute_result"
    },
    {
     "data": {
      "image/png": "[encoded data removed]",
      "text/plain": [
       "<matplotlib.figure.Figure at 0x7f5247ffa668>"
      ]
     },
     "metadata": {},
     "output_type": "display_data"
    }
   ],
   "source": [
    "auto_df.boxplot(column=\"mpg\", by=\"cylinders\") # MPG distribution by number of cylinders"
   ]
  },
  {
   "cell_type": "code",
   "execution_count": 27,
   "metadata": {
    "collapsed": false
   },
   "outputs": [
    {
     "data": {
      "image/png": "[encoded data removed]",
      "text/plain": [
       "<matplotlib.figure.Figure at 0x7f5247e42d30>"
      ]
     },
     "metadata": {},
     "output_type": "display_data"
    }
   ],
   "source": [
    "# similar to R pairs, shows correlation scatter plots between columns and distribution for each \n",
    "# column along the diagonal.\n",
    "# The R version that uses formulas does not seem to have a Python equivalent (and doesn't seem\n",
    "# to be very useful for exploratory analysis IMO).\n",
    "axes = pd.tools.plotting.scatter_matrix(auto_df, color=\"brown\")"
   ]
  },
  {
   "cell_type": "code",
   "execution_count": null,
   "metadata": {
    "collapsed": true
   },
   "outputs": [],
   "source": []
  }
 ],
 "metadata": {
  "kernelspec": {
   "display_name": "Python 3",
   "language": "python",
   "name": "python3"
  },
  "language_info": {
   "codemirror_mode": {
    "name": "ipython",
    "version": 3
   },
   "file_extension": ".py",
   "mimetype": "text/x-python",
   "name": "python",
   "nbconvert_exporter": "python",
   "pygments_lexer": "ipython3",
   "version": "3.4.3"
  }
 },
 "nbformat": 4,
 "nbformat_minor": 0
}
