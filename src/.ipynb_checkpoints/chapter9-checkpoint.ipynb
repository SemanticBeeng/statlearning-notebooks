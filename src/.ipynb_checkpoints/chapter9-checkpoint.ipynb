{
 "cells": [
  {
   "cell_type": "markdown",
   "metadata": {},
   "source": [
    "## Support Vector Machines ##"
   ]
  },
  {
   "cell_type": "code",
   "execution_count": 1,
   "metadata": {
    "collapsed": false
   },
   "outputs": [],
   "source": [
    "import pandas as pd\n",
    "import numpy as np\n",
    "import matplotlib.pyplot as plt\n",
    "from sklearn.svm import SVR\n",
    "from sklearn.metrics import confusion_matrix\n",
    "from sklearn.metrics import mean_squared_error\n",
    "from sklearn.cross_validation import KFold\n",
    "%matplotlib inline"
   ]
  },
  {
   "cell_type": "markdown",
   "metadata": {},
   "source": [
    "### Linear SVM Classifier ###\n",
    "\n",
    "We generate some data in 2 dimensions and make them a little separated.\n",
    "\n",
    "Code for the plot with the hyperplane and support margins was largely copied from [here](http://scikit-learn.org/0.11/auto_examples/svm/plot_separating_hyperplane.html#example-svm-plot-separating-hyperplane-py)."
   ]
  },
  {
   "cell_type": "code",
   "execution_count": 2,
   "metadata": {
    "collapsed": false
   },
   "outputs": [
    {
     "data": {
      "text/plain": [
       "<matplotlib.text.Text at 0x7f390d331358>"
      ]
     },
     "execution_count": 2,
     "metadata": {},
     "output_type": "execute_result"
    },
    {
     "data": {
      "image/png": "[encoded data removed]",
      "text/plain": [
       "<matplotlib.figure.Figure at 0x7f390d5a0f98>"
      ]
     },
     "metadata": {},
     "output_type": "display_data"
    }
   ],
   "source": [
    "X = np.random.randn(20, 2)\n",
    "y = np.concatenate((np.ones(10)*-1, np.ones(10)))\n",
    "X[y == 1] = X[y == 1] + 1\n",
    "plt.scatter(X[y == 1][:, 0], X[y == 1][:, 1], marker='o', color='red')\n",
    "plt.scatter(X[y == -1][:, 0], X[y == -1][:, 1], marker='o', color='blue')\n",
    "plt.xlabel(\"X[:,0]\")\n",
    "plt.ylabel(\"X[:,1]\")"
   ]
  },
  {
   "cell_type": "code",
   "execution_count": 3,
   "metadata": {
    "collapsed": false
   },
   "outputs": [
    {
     "data": {
      "text/plain": [
       "[<matplotlib.lines.Line2D at 0x7f390d225940>]"
      ]
     },
     "execution_count": 3,
     "metadata": {},
     "output_type": "execute_result"
    },
    {
     "data": {
      "image/png": "[encoded data removed]",
      "text/plain": [
       "<matplotlib.figure.Figure at 0x7f390d31ab38>"
      ]
     },
     "metadata": {},
     "output_type": "display_data"
    }
   ],
   "source": [
    "# Fit the Support Vector Regressor with a linear kernel\n",
    "reg = SVR(C=10.0, kernel=\"linear\")\n",
    "reg.fit(X, y)\n",
    "\n",
    "# plot the hyperplane on the scatterplot\n",
    "plt.scatter(X[y == 1][:, 0], X[y == 1][:, 1], marker='o', color='red')\n",
    "plt.scatter(X[y == -1][:, 0], X[y == -1][:, 1], marker='o', color='blue')\n",
    "plt.xlabel(\"X[:,0]\")\n",
    "plt.ylabel(\"X[:,1]\")\n",
    "# hyperplane\n",
    "xs = range(int(np.min(X[:,0]))-1, int(np.max(X[:,0]))+1)\n",
    "m = -reg.coef_[0][0] / reg.coef_[0][1]\n",
    "c = reg.intercept_ / reg.coef_[0][1]\n",
    "ys = [m * x + c for x in xs]\n",
    "plt.plot(xs, ys, color='black', linewidth=2.5)\n",
    "# support margins\n",
    "sup = reg.support_vectors_[0]\n",
    "ys_down = [m * x + (sup[1] - m * sup[0]) for x in xs]\n",
    "sup = reg.support_vectors_[-1]\n",
    "ys_up = [m * x + (sup[1] - m * sup[0]) for x in xs]\n",
    "plt.plot(xs, ys_down, 'k--')\n",
    "plt.plot(xs, ys_up, 'k--')"
   ]
  },
  {
   "cell_type": "code",
   "execution_count": 4,
   "metadata": {
    "collapsed": false
   },
   "outputs": [
    {
     "data": {
      "text/plain": [
       "0.38066384311107027"
      ]
     },
     "execution_count": 4,
     "metadata": {},
     "output_type": "execute_result"
    }
   ],
   "source": [
    "ypred = reg.predict(X)\n",
    "mean_squared_error(y, ypred)"
   ]
  },
  {
   "cell_type": "code",
   "execution_count": 5,
   "metadata": {
    "collapsed": false
   },
   "outputs": [
    {
     "data": {
      "text/plain": [
       "<matplotlib.text.Text at 0x7f390d262a58>"
      ]
     },
     "execution_count": 5,
     "metadata": {},
     "output_type": "execute_result"
    },
    {
     "data": {
      "image/png": "[encoded data removed]",
      "text/plain": [
       "<matplotlib.figure.Figure at 0x7f390d2bb320>"
      ]
     },
     "metadata": {},
     "output_type": "display_data"
    }
   ],
   "source": [
    "# We use cross-validation to find a good value for C\n",
    "cs = range(1, 20)\n",
    "mses = []\n",
    "for c in cs:\n",
    "    kfold = KFold(X.shape[0], n_folds=10)\n",
    "    kmses = []\n",
    "    for train, test in kfold:\n",
    "        Xtrain, Xtest, ytrain, ytest = X[train], X[test], y[train], y[test]\n",
    "        reg = SVR(C=c, kernel=\"linear\")\n",
    "        reg.fit(Xtrain, ytrain)\n",
    "        ypred = reg.predict(Xtest)\n",
    "        kmses.append(mean_squared_error(ytest, ypred))\n",
    "    mses.append(np.mean(kmses))\n",
    "plt.plot(cs, mses, linewidth=2.5)\n",
    "plt.xlabel(\"C\")\n",
    "plt.ylabel(\"MSE\")"
   ]
  },
  {
   "cell_type": "markdown",
   "metadata": {},
   "source": [
    "### Nonlinear SVM ###"
   ]
  },
  {
   "cell_type": "code",
   "execution_count": 6,
   "metadata": {
    "collapsed": false
   },
   "outputs": [
    {
     "data": {
      "text/html": [
       "<div style=\"max-height:1000px;max-width:1500px;overflow:auto;\">\n",
       "<table border=\"1\" class=\"dataframe\">\n",
       "  <thead>\n",
       "    <tr style=\"text-align: right;\">\n",
       "      <th></th>\n",
       "      <th>y</th>\n",
       "      <th>X1</th>\n",
       "      <th>X2</th>\n",
       "    </tr>\n",
       "  </thead>\n",
       "  <tbody>\n",
       "    <tr>\n",
       "      <th>0</th>\n",
       "      <td> 0</td>\n",
       "      <td> 2.526093</td>\n",
       "      <td> 0.321050</td>\n",
       "    </tr>\n",
       "    <tr>\n",
       "      <th>1</th>\n",
       "      <td> 0</td>\n",
       "      <td> 0.366954</td>\n",
       "      <td> 0.031462</td>\n",
       "    </tr>\n",
       "    <tr>\n",
       "      <th>2</th>\n",
       "      <td> 0</td>\n",
       "      <td> 0.768219</td>\n",
       "      <td> 0.717486</td>\n",
       "    </tr>\n",
       "    <tr>\n",
       "      <th>3</th>\n",
       "      <td> 0</td>\n",
       "      <td> 0.693436</td>\n",
       "      <td> 0.777194</td>\n",
       "    </tr>\n",
       "    <tr>\n",
       "      <th>4</th>\n",
       "      <td> 0</td>\n",
       "      <td>-0.019837</td>\n",
       "      <td> 0.867254</td>\n",
       "    </tr>\n",
       "  </tbody>\n",
       "</table>\n",
       "</div>"
      ],
      "text/plain": [
       "   y        X1        X2\n",
       "0  0  2.526093  0.321050\n",
       "1  0  0.366954  0.031462\n",
       "2  0  0.768219  0.717486\n",
       "3  0  0.693436  0.777194\n",
       "4  0 -0.019837  0.867254"
      ]
     },
     "execution_count": 6,
     "metadata": {},
     "output_type": "execute_result"
    }
   ],
   "source": [
    "# Data comes from http://www-stat.stanford.edu/~tibs/ElemStatLearn/datasets/ESL.mixture.rda\n",
    "# load(url(\"http://www-stat.stanford.edu/~tibs/ElemStatLearn/datasets/ESL.mixture.rda\"))\n",
    "# dat = data.frame(y=factor(y), x)\n",
    "# write.csv(dat, \"ESLMixture.csv\", row.names=FALSE)\n",
    "eslmix_df = pd.read_csv(\"../data/ESLMixture.csv\")\n",
    "eslmix_df.head()"
   ]
  },
  {
   "cell_type": "code",
   "execution_count": 7,
   "metadata": {
    "collapsed": false
   },
   "outputs": [
    {
     "data": {
      "text/plain": [
       "<matplotlib.text.Text at 0x7f390d1bd898>"
      ]
     },
     "execution_count": 7,
     "metadata": {},
     "output_type": "execute_result"
    },
    {
     "data": {
      "image/png": "[encoded data removed]",
      "text/plain": [
       "<matplotlib.figure.Figure at 0x7f390d1e8780>"
      ]
     },
     "metadata": {},
     "output_type": "display_data"
    }
   ],
   "source": [
    "# Plot the data to visualize the relationship\n",
    "x1 = eslmix_df[eslmix_df[\"y\"] == 0][\"X1\"]\n",
    "x2 = eslmix_df[eslmix_df[\"y\"] == 0][\"X2\"]\n",
    "plt.scatter(x1, x2, marker='o', color='red')\n",
    "x1 = eslmix_df[eslmix_df[\"y\"] == 1][\"X1\"]\n",
    "x2 = eslmix_df[eslmix_df[\"y\"] == 1][\"X2\"]\n",
    "plt.scatter(x1, x2, marker='o', color='blue')\n",
    "plt.xlabel(\"X1\")\n",
    "plt.ylabel(\"X1\")"
   ]
  },
  {
   "cell_type": "code",
   "execution_count": 8,
   "metadata": {
    "collapsed": false
   },
   "outputs": [
    {
     "data": {
      "text/plain": [
       "<matplotlib.text.Text at 0x7f390d157c50>"
      ]
     },
     "execution_count": 8,
     "metadata": {},
     "output_type": "execute_result"
    },
    {
     "data": {
      "image/png": "[encoded data removed]",
      "text/plain": [
       "<matplotlib.figure.Figure at 0x7f390d199eb8>"
      ]
     },
     "metadata": {},
     "output_type": "display_data"
    }
   ],
   "source": [
    "# Fit a non-linear SVM using a radial kernel\n",
    "X = eslmix_df[[\"X1\", \"X2\"]].values\n",
    "y = eslmix_df[\"y\"]\n",
    "reg = SVR(C=5.0, kernel=\"rbf\")\n",
    "reg.fit(X, y)\n",
    "\n",
    "# plot the hyperplane on the scatterplot\n",
    "xx, yy = np.meshgrid(np.linspace(-3, 5, 50), np.linspace(-2, 3, 50))\n",
    "Z = reg.decision_function(np.c_[xx.ravel(), yy.ravel()])\n",
    "Z = Z.reshape(xx.shape)\n",
    "plt.contour(xx, yy, Z, levels=[0], linewidths=2, linetypes=\"--\")\n",
    "\n",
    "x1 = eslmix_df[eslmix_df[\"y\"] == 0][\"X1\"]\n",
    "x2 = eslmix_df[eslmix_df[\"y\"] == 0][\"X2\"]\n",
    "plt.scatter(x1, x2, marker='o', color='red')\n",
    "x1 = eslmix_df[eslmix_df[\"y\"] == 1][\"X1\"]\n",
    "x2 = eslmix_df[eslmix_df[\"y\"] == 1][\"X2\"]\n",
    "plt.scatter(x1, x2, marker='o', color='blue')\n",
    "plt.xlabel(\"X1\")\n",
    "plt.ylabel(\"X1\")"
   ]
  },
  {
   "cell_type": "markdown",
   "metadata": {},
   "source": [
    "The boundaries of the hyperplane generated by the Support Vector machine are non-linear and approximate the boundaries of the data it models (better than a linear hyperplane).\n",
    "\n",
    "Code for the plot above was copied from [here](http://scikit-learn.org/0.11/auto_examples/svm/plot_svm_nonlinear.html#example-svm-plot-svm-nonlinear-py)."
   ]
  },
  {
   "cell_type": "code",
   "execution_count": null,
   "metadata": {
    "collapsed": true
   },
   "outputs": [],
   "source": []
  }
 ],
 "metadata": {
  "kernelspec": {
   "display_name": "Python 3",
   "language": "python",
   "name": "python3"
  },
  "language_info": {
   "codemirror_mode": {
    "name": "ipython",
    "version": 3
   },
   "file_extension": ".py",
   "mimetype": "text/x-python",
   "name": "python",
   "nbconvert_exporter": "python",
   "pygments_lexer": "ipython3",
   "version": "3.4.3"
  }
 },
 "nbformat": 4,
 "nbformat_minor": 0
}
